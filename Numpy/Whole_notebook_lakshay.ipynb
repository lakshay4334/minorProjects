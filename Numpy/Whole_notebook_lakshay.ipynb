{
 "cells": [
  {
   "cell_type": "code",
   "execution_count": 1,
   "id": "6afbc59b-4536-4331-9507-4c0d14465710",
   "metadata": {},
   "outputs": [],
   "source": [
    "import numpy as np"
   ]
  },
  {
   "cell_type": "markdown",
   "id": "d14293eb-cff1-45d1-be85-61f20c898d87",
   "metadata": {},
   "source": [
    "## Converting list to array"
   ]
  },
  {
   "cell_type": "code",
   "execution_count": 2,
   "id": "1309889b-7620-4f8c-9c1c-f090ddbc5115",
   "metadata": {},
   "outputs": [],
   "source": [
    "lst = [1,2,3,4]"
   ]
  },
  {
   "cell_type": "code",
   "execution_count": 3,
   "id": "620fb8ec-4dca-4347-bc03-58b2b53a7f62",
   "metadata": {},
   "outputs": [
    {
     "data": {
      "text/plain": [
       "array([1, 2, 3, 4])"
      ]
     },
     "execution_count": 3,
     "metadata": {},
     "output_type": "execute_result"
    }
   ],
   "source": [
    "np.array(lst)"
   ]
  },
  {
   "cell_type": "code",
   "execution_count": 4,
   "id": "4b7ac68d-db3b-4d11-92fe-9c6ad36d4189",
   "metadata": {},
   "outputs": [],
   "source": [
    "arr = np.array(lst)"
   ]
  },
  {
   "cell_type": "markdown",
   "id": "0f5a2e61-8d4e-4a84-bb18-b50e62d04dd2",
   "metadata": {},
   "source": [
    "## Arrange Function"
   ]
  },
  {
   "cell_type": "code",
   "execution_count": 5,
   "id": "92c837e6-6db2-4213-9668-f6471986888b",
   "metadata": {},
   "outputs": [
    {
     "data": {
      "text/plain": [
       "array([1, 2, 3, 4, 5, 6, 7, 8, 9])"
      ]
     },
     "execution_count": 5,
     "metadata": {},
     "output_type": "execute_result"
    }
   ],
   "source": [
    "np.arange(1,10,1)"
   ]
  },
  {
   "cell_type": "markdown",
   "id": "c2b8378b-f386-415d-8061-3221e3dfe667",
   "metadata": {},
   "source": [
    "## Multidimensional array"
   ]
  },
  {
   "cell_type": "code",
   "execution_count": 6,
   "id": "6f65b2d4-1b87-4ec3-a68e-e7ec03b80293",
   "metadata": {},
   "outputs": [],
   "source": [
    "arr = np.array([[1,2,3],[4,5,6],[7,8,9]])"
   ]
  },
  {
   "cell_type": "code",
   "execution_count": 7,
   "id": "ad86187d-2b0d-4550-942f-fc465797ca17",
   "metadata": {},
   "outputs": [
    {
     "data": {
      "text/plain": [
       "array([[1, 2, 3],\n",
       "       [4, 5, 6],\n",
       "       [7, 8, 9]])"
      ]
     },
     "execution_count": 7,
     "metadata": {},
     "output_type": "execute_result"
    }
   ],
   "source": [
    "arr"
   ]
  },
  {
   "cell_type": "markdown",
   "id": "f99b82c2-e358-46e8-a6f9-86dd83c6d2fd",
   "metadata": {},
   "source": [
    "## Size function"
   ]
  },
  {
   "cell_type": "code",
   "execution_count": 13,
   "id": "5abbabfd-4150-4692-901b-fc8a3914c631",
   "metadata": {},
   "outputs": [
    {
     "name": "stdout",
     "output_type": "stream",
     "text": [
      "total size: 9\n",
      "Row size: 3\n",
      "Column size 3\n"
     ]
    }
   ],
   "source": [
    "print(\"total size:\",arr.size)\n",
    "print(\"Row size:\", np.size(arr,0))\n",
    "print(\"Column size\",np.size(arr,1))"
   ]
  },
  {
   "cell_type": "markdown",
   "id": "52da0763-e6ad-4c54-a917-3fefd78a026d",
   "metadata": {},
   "source": [
    "## Shape function"
   ]
  },
  {
   "cell_type": "code",
   "execution_count": 14,
   "id": "73067141-fee4-4395-b1bb-443451606f77",
   "metadata": {},
   "outputs": [
    {
     "data": {
      "text/plain": [
       "(3, 3)"
      ]
     },
     "execution_count": 14,
     "metadata": {},
     "output_type": "execute_result"
    }
   ],
   "source": [
    "arr.shape"
   ]
  },
  {
   "cell_type": "markdown",
   "id": "09f5d3f6-8a66-4b6f-86e5-c4ed3c5bd372",
   "metadata": {},
   "source": [
    "## Dtype function"
   ]
  },
  {
   "cell_type": "code",
   "execution_count": 15,
   "id": "a0ff9ab3-ae1e-4175-9127-e4a8c567270d",
   "metadata": {},
   "outputs": [
    {
     "data": {
      "text/plain": [
       "dtype('int32')"
      ]
     },
     "execution_count": 15,
     "metadata": {},
     "output_type": "execute_result"
    }
   ],
   "source": [
    "arr.dtype"
   ]
  },
  {
   "cell_type": "code",
   "execution_count": 16,
   "id": "605968bf-636d-46bb-a331-186b2e455a26",
   "metadata": {},
   "outputs": [
    {
     "data": {
      "text/plain": [
       "dtype('float64')"
      ]
     },
     "execution_count": 16,
     "metadata": {},
     "output_type": "execute_result"
    }
   ],
   "source": [
    "arr1 = np.array([1.2,2.3,3.4])\n",
    "arr1.dtype"
   ]
  },
  {
   "cell_type": "markdown",
   "id": "f487dffc-a4a5-414d-95dc-80ed1491a9ec",
   "metadata": {},
   "source": [
    "## ndim function"
   ]
  },
  {
   "cell_type": "code",
   "execution_count": 17,
   "id": "d645bac5-4324-4889-8a82-040637cf648a",
   "metadata": {},
   "outputs": [
    {
     "data": {
      "text/plain": [
       "2"
      ]
     },
     "execution_count": 17,
     "metadata": {},
     "output_type": "execute_result"
    }
   ],
   "source": [
    "arr.ndim"
   ]
  },
  {
   "cell_type": "code",
   "execution_count": 18,
   "id": "af9dbf3a-e77a-4e30-be53-926317414886",
   "metadata": {},
   "outputs": [
    {
     "data": {
      "text/plain": [
       "1"
      ]
     },
     "execution_count": 18,
     "metadata": {},
     "output_type": "execute_result"
    }
   ],
   "source": [
    "arr1.ndim"
   ]
  },
  {
   "cell_type": "markdown",
   "id": "2da92bd4-0dab-42bc-a16f-ae30cc77c25e",
   "metadata": {},
   "source": [
    "## Zeroes Function"
   ]
  },
  {
   "cell_type": "code",
   "execution_count": 19,
   "id": "c13c193c-c687-4529-815e-21eb7206031d",
   "metadata": {},
   "outputs": [
    {
     "ename": "AttributeError",
     "evalue": "module 'numpy' has no attribute 'zeroes'",
     "output_type": "error",
     "traceback": [
      "\u001b[1;31m---------------------------------------------------------------------------\u001b[0m",
      "\u001b[1;31mAttributeError\u001b[0m                            Traceback (most recent call last)",
      "Cell \u001b[1;32mIn[19], line 1\u001b[0m\n\u001b[1;32m----> 1\u001b[0m np\u001b[38;5;241m.\u001b[39mzeroes(shape \u001b[38;5;241m=\u001b[39m (\u001b[38;5;241m2\u001b[39m,\u001b[38;5;241m4\u001b[39m))\n",
      "File \u001b[1;32mD:\\Anaconda\\Lib\\site-packages\\numpy\\__init__.py:333\u001b[0m, in \u001b[0;36m__getattr__\u001b[1;34m(attr)\u001b[0m\n\u001b[0;32m    330\u001b[0m     \u001b[38;5;124m\"\u001b[39m\u001b[38;5;124mRemoved in NumPy 1.25.0\u001b[39m\u001b[38;5;124m\"\u001b[39m\n\u001b[0;32m    331\u001b[0m     \u001b[38;5;28;01mraise\u001b[39;00m \u001b[38;5;167;01mRuntimeError\u001b[39;00m(\u001b[38;5;124m\"\u001b[39m\u001b[38;5;124mTester was removed in NumPy 1.25.\u001b[39m\u001b[38;5;124m\"\u001b[39m)\n\u001b[1;32m--> 333\u001b[0m \u001b[38;5;28;01mraise\u001b[39;00m \u001b[38;5;167;01mAttributeError\u001b[39;00m(\u001b[38;5;124m\"\u001b[39m\u001b[38;5;124mmodule \u001b[39m\u001b[38;5;132;01m{!r}\u001b[39;00m\u001b[38;5;124m has no attribute \u001b[39m\u001b[38;5;124m\"\u001b[39m\n\u001b[0;32m    334\u001b[0m                      \u001b[38;5;124m\"\u001b[39m\u001b[38;5;132;01m{!r}\u001b[39;00m\u001b[38;5;124m\"\u001b[39m\u001b[38;5;241m.\u001b[39mformat(\u001b[38;5;18m__name__\u001b[39m, attr))\n",
      "\u001b[1;31mAttributeError\u001b[0m: module 'numpy' has no attribute 'zeroes'"
     ]
    }
   ],
   "source": [
    "np.zeroes(shape = (2,4))"
   ]
  },
  {
   "cell_type": "markdown",
   "id": "8dc7ca93-8a96-4195-b046-48973287eff8",
   "metadata": {},
   "source": [
    "## Ones Function"
   ]
  },
  {
   "cell_type": "code",
   "execution_count": 20,
   "id": "e4487e24-25f9-467e-8050-904ff4e0e5bb",
   "metadata": {},
   "outputs": [
    {
     "data": {
      "text/plain": [
       "array([[1., 1., 1., 1.],\n",
       "       [1., 1., 1., 1.]])"
      ]
     },
     "execution_count": 20,
     "metadata": {},
     "output_type": "execute_result"
    }
   ],
   "source": [
    "np.ones(shape = (2,4))"
   ]
  },
  {
   "cell_type": "markdown",
   "id": "2cb5b9d8-4818-460c-a4e9-296b2a892d56",
   "metadata": {},
   "source": [
    "## Eye function"
   ]
  },
  {
   "cell_type": "code",
   "execution_count": 21,
   "id": "91d24272-0082-4d35-8a3f-38526d75999b",
   "metadata": {},
   "outputs": [
    {
     "data": {
      "text/plain": [
       "array([[1, 0, 0],\n",
       "       [0, 1, 0],\n",
       "       [0, 0, 1]])"
      ]
     },
     "execution_count": 21,
     "metadata": {},
     "output_type": "execute_result"
    }
   ],
   "source": [
    "np.eye(3, dtype = int)"
   ]
  },
  {
   "cell_type": "markdown",
   "id": "57c8f432-1675-4c9a-89dd-1010f2f441d5",
   "metadata": {},
   "source": [
    "## Empty Function"
   ]
  },
  {
   "cell_type": "code",
   "execution_count": 22,
   "id": "c45a6f11-bf7d-41e3-aed7-1a882f1b9d06",
   "metadata": {},
   "outputs": [
    {
     "data": {
      "text/plain": [
       "array([[nan,  0.,  0.,  0.,  0.],\n",
       "       [ 0.,  0.,  0.,  0.,  0.]])"
      ]
     },
     "execution_count": 22,
     "metadata": {},
     "output_type": "execute_result"
    }
   ],
   "source": [
    "np.empty(shape = (2,5))"
   ]
  },
  {
   "cell_type": "markdown",
   "id": "b2f4ab10-9154-45f2-9854-7df1a5fccaef",
   "metadata": {},
   "source": [
    "## Random Function"
   ]
  },
  {
   "cell_type": "code",
   "execution_count": 23,
   "id": "e9005126-b27a-437d-9606-ecebd98180d8",
   "metadata": {},
   "outputs": [
    {
     "data": {
      "text/plain": [
       "array([[0.29125026, 0.46051847, 0.93456778, 0.17823527],\n",
       "       [0.71855531, 0.26313134, 0.09974188, 0.60189866],\n",
       "       [0.63951951, 0.1323612 , 0.59263237, 0.00339509]])"
      ]
     },
     "execution_count": 23,
     "metadata": {},
     "output_type": "execute_result"
    }
   ],
   "source": [
    "np.random.rand(3,4)"
   ]
  },
  {
   "cell_type": "code",
   "execution_count": 25,
   "id": "1a1458a7-6634-4cd9-b8ec-5a48a7fc2d32",
   "metadata": {},
   "outputs": [
    {
     "data": {
      "text/plain": [
       "array([[1, 3, 6, 6, 4, 6, 4, 6, 6, 3],\n",
       "       [3, 3, 3, 5, 8, 5, 1, 8, 6, 7],\n",
       "       [2, 7, 6, 2, 8, 8, 5, 9, 2, 5],\n",
       "       [4, 1, 7, 2, 9, 8, 7, 3, 4, 2],\n",
       "       [8, 5, 9, 7, 3, 7, 7, 3, 3, 6],\n",
       "       [9, 6, 6, 1, 2, 5, 9, 3, 6, 7],\n",
       "       [8, 4, 3, 9, 5, 5, 6, 3, 9, 4],\n",
       "       [8, 2, 1, 6, 5, 7, 3, 3, 7, 3],\n",
       "       [7, 2, 9, 7, 5, 2, 6, 3, 5, 7],\n",
       "       [9, 1, 2, 6, 6, 7, 1, 8, 9, 2]])"
      ]
     },
     "execution_count": 25,
     "metadata": {},
     "output_type": "execute_result"
    }
   ],
   "source": [
    "np.random.randint(low = 1,high = 10, size = (10,10))"
   ]
  },
  {
   "cell_type": "code",
   "execution_count": 26,
   "id": "56d50342-5fa7-4f0c-b1bb-90de0a396c43",
   "metadata": {},
   "outputs": [
    {
     "data": {
      "text/plain": [
       "array([-1.19216133,  0.42866715,  1.29316738,  0.39013381, -0.68493684,\n",
       "        0.02941067,  0.01215869,  0.30759918, -1.17748624, -0.15551657,\n",
       "       -0.14558397,  0.19392434, -0.52880013,  0.81137257, -0.4391933 ,\n",
       "       -0.78649198,  1.53459604,  1.59360459,  1.40827072, -0.20553034,\n",
       "       -0.11365988, -0.91499698,  0.6271581 , -0.07154831,  0.1293576 ,\n",
       "        0.57422233,  1.10775127,  1.79703667, -0.07795439, -2.38232361,\n",
       "        1.34706336,  0.15057553,  0.10143534, -0.01418514,  1.73096582,\n",
       "        0.12778768,  0.27731851,  2.04306583,  0.52493582, -1.20561005,\n",
       "        0.50131247,  0.76624229,  0.15061527, -2.25131062, -1.2201708 ,\n",
       "       -1.87375176, -0.683619  , -0.62617533,  0.58553329, -0.03933649,\n",
       "       -0.80664168,  0.72282072,  1.13801031,  0.19501706,  1.23652362,\n",
       "       -0.32804751,  1.1437147 , -0.66962382,  0.94706036, -2.15545955,\n",
       "       -0.47395844,  1.65522067,  0.97699599,  1.22923193, -1.50071401,\n",
       "        1.51773116, -2.4014977 ,  0.07725482, -0.34036591, -0.56491918,\n",
       "        0.41082171,  0.48427192,  0.4746646 , -1.06240561,  0.60179586,\n",
       "       -1.35648553,  0.21048916,  0.36553668,  1.4260262 , -0.27419993,\n",
       "       -1.43318445,  1.60582569, -0.01011348,  0.03753568, -0.76009216,\n",
       "        0.98294608,  0.61801794,  0.94814146,  1.15329125, -1.02005796,\n",
       "        0.1223981 , -0.6406385 ,  1.13198228,  1.6669815 , -0.55219564,\n",
       "       -0.2348408 ,  0.31655379, -0.52002238, -0.86349892,  0.62100547])"
      ]
     },
     "execution_count": 26,
     "metadata": {},
     "output_type": "execute_result"
    }
   ],
   "source": [
    "np.random.randn(100)"
   ]
  },
  {
   "cell_type": "code",
   "execution_count": 27,
   "id": "b0edb15d-527a-4154-8711-de9178f66b92",
   "metadata": {},
   "outputs": [],
   "source": [
    "import matplotlib.pyplot as plt"
   ]
  },
  {
   "cell_type": "code",
   "execution_count": 31,
   "id": "7c3bc9f9-3e26-446a-917c-ce6425839689",
   "metadata": {},
   "outputs": [
    {
     "data": {
      "image/png": "[encoded data removed]",
      "text/plain": [
       "<Figure size 640x480 with 1 Axes>"
      ]
     },
     "metadata": {},
     "output_type": "display_data"
    }
   ],
   "source": [
    "plt.hist(np.random.randn(1000),bins = 100);"
   ]
  },
  {
   "cell_type": "markdown",
   "id": "270e1e95-2374-4c1d-b380-ff8b749a68a9",
   "metadata": {},
   "source": [
    "## Reshape function"
   ]
  },
  {
   "cell_type": "code",
   "execution_count": 37,
   "id": "58bd8663-9954-450a-99ea-0a1818282b9b",
   "metadata": {},
   "outputs": [
    {
     "data": {
      "text/plain": [
       "array([[12,  6,  1, 12],\n",
       "       [12, 13,  1,  1]])"
      ]
     },
     "execution_count": 37,
     "metadata": {},
     "output_type": "execute_result"
    }
   ],
   "source": [
    "np.reshape(np.random.randint(1,15,(4,2)), (2,4))"
   ]
  },
  {
   "cell_type": "markdown",
   "id": "0b5957c6-ff19-4b3b-9d33-222eaeae5784",
   "metadata": {},
   "source": [
    "## linspace function"
   ]
  },
  {
   "cell_type": "code",
   "execution_count": 38,
   "id": "0b201046-e17e-403e-a2c9-49e3c1db0175",
   "metadata": {},
   "outputs": [
    {
     "data": {
      "text/plain": [
       "array([ 1.  ,  3.25,  5.5 ,  7.75, 10.  ])"
      ]
     },
     "execution_count": 38,
     "metadata": {},
     "output_type": "execute_result"
    }
   ],
   "source": [
    "np.linspace(1,10,5)"
   ]
  },
  {
   "cell_type": "markdown",
   "id": "541365b8-a5d2-4bae-b454-43b20ad0c98a",
   "metadata": {},
   "source": [
    "## flatten function"
   ]
  },
  {
   "cell_type": "code",
   "execution_count": 39,
   "id": "cb99fe78-31c4-4086-903e-27907da36b64",
   "metadata": {},
   "outputs": [
    {
     "data": {
      "text/plain": [
       "array([6, 9, 6, 9, 4, 1, 6, 4, 9, 4, 7, 8, 9, 9, 9, 2, 4, 1, 1, 8, 9, 3,\n",
       "       8, 8, 4, 7, 2, 9, 1, 6, 9, 6, 8, 3, 1, 4, 2, 8, 4, 2, 7, 3, 4, 5,\n",
       "       3, 2, 3, 9, 8, 1, 1, 6, 1, 5, 3, 7, 3, 2, 3, 6, 9, 6, 8, 8, 1, 6,\n",
       "       1, 3, 1, 5, 3, 7, 9, 1, 6, 2, 4, 7, 6, 6, 3, 7, 2, 6, 8, 7, 5, 1,\n",
       "       7, 4, 7, 4, 4, 9, 2, 2, 8, 7, 7, 3])"
      ]
     },
     "execution_count": 39,
     "metadata": {},
     "output_type": "execute_result"
    }
   ],
   "source": [
    "np.random.randint(low = 1,high = 10, size = (10,10)).flatten()"
   ]
  },
  {
   "cell_type": "markdown",
   "id": "7dd53863-5a20-473d-b1c3-c9c2ddfa92de",
   "metadata": {},
   "source": [
    "## logspace function"
   ]
  },
  {
   "cell_type": "code",
   "execution_count": 41,
   "id": "7ef30420-7038-40f3-8d29-292de73b6096",
   "metadata": {},
   "outputs": [
    {
     "data": {
      "text/plain": [
       "array([ 2.        ,  2.72158   ,  3.70349885,  5.0396842 ,  6.85795186,\n",
       "        9.33223232, 12.69920842, 17.28095582, 23.51575188, 32.        ])"
      ]
     },
     "execution_count": 41,
     "metadata": {},
     "output_type": "execute_result"
    }
   ],
   "source": [
    "np.logspace(1,5,10, base = 2)"
   ]
  },
  {
   "cell_type": "markdown",
   "id": "6bb87905-d336-49cc-8874-37fd92d185d6",
   "metadata": {},
   "source": [
    "## Copy function"
   ]
  },
  {
   "cell_type": "code",
   "execution_count": 49,
   "id": "098abdcd-59b4-4b5a-99b3-38a155a2439a",
   "metadata": {},
   "outputs": [
    {
     "name": "stdout",
     "output_type": "stream",
     "text": [
      "[5 8 8 7 3 8 7 7 9 5] 2446086866096\n",
      "[5 8 8 7 3 8 7 7 9 5] 2446086866096\n",
      "[5 8 8 7 3 8 7 7 9 5] 2446086866576\n"
     ]
    }
   ],
   "source": [
    "arr1 = np.random.randint(1,10,10)\n",
    "arr2 = arr1\n",
    "\n",
    "print(arr1, id(arr1))\n",
    "print(arr2,id(arr2))\n",
    "\n",
    "arr3 = np.copy(arr1)\n",
    "print(arr3,id(arr3))"
   ]
  },
  {
   "cell_type": "markdown",
   "id": "f96fdef2-7fc1-4773-b616-79a2ac7664bc",
   "metadata": {},
   "source": [
    "## max, min and sum functioN"
   ]
  },
  {
   "cell_type": "code",
   "execution_count": 50,
   "id": "3101dd47-1c0c-4cae-9d07-45bb87f5fa0c",
   "metadata": {},
   "outputs": [],
   "source": [
    "newarr = np.random.randint(1,10,(3,5))"
   ]
  },
  {
   "cell_type": "code",
   "execution_count": 58,
   "id": "a8df4a1e-5b6d-44d4-9462-0191d5fea73a",
   "metadata": {},
   "outputs": [
    {
     "data": {
      "text/plain": [
       "7"
      ]
     },
     "execution_count": 58,
     "metadata": {},
     "output_type": "execute_result"
    }
   ],
   "source": [
    "newarr.max()"
   ]
  },
  {
   "cell_type": "code",
   "execution_count": 57,
   "id": "98bcd5d2-0cf6-44e5-a2d9-8d1d6b64a495",
   "metadata": {},
   "outputs": [
    {
     "data": {
      "text/plain": [
       "1"
      ]
     },
     "execution_count": 57,
     "metadata": {},
     "output_type": "execute_result"
    }
   ],
   "source": [
    "newarr.min()"
   ]
  },
  {
   "cell_type": "code",
   "execution_count": 55,
   "id": "6d65913d-2856-4c44-83a0-0199aad4b976",
   "metadata": {},
   "outputs": [
    {
     "data": {
      "text/plain": [
       "54"
      ]
     },
     "execution_count": 55,
     "metadata": {},
     "output_type": "execute_result"
    }
   ],
   "source": [
    "newarr.sum()"
   ]
  },
  {
   "cell_type": "code",
   "execution_count": 56,
   "id": "fbf1527b-414b-49c9-aeec-b6edb6f4c59a",
   "metadata": {},
   "outputs": [
    {
     "data": {
      "text/plain": [
       "array([[3, 5, 7, 1, 6],\n",
       "       [5, 2, 6, 2, 2],\n",
       "       [4, 1, 7, 2, 1]])"
      ]
     },
     "execution_count": 56,
     "metadata": {},
     "output_type": "execute_result"
    }
   ],
   "source": [
    "newarr"
   ]
  },
  {
   "cell_type": "code",
   "execution_count": 59,
   "id": "c6c2ac38-0da4-4ced-b4b2-52836c465547",
   "metadata": {},
   "outputs": [
    {
     "name": "stdout",
     "output_type": "stream",
     "text": [
      "rowmax [5 5 7 2 6]\n"
     ]
    }
   ],
   "source": [
    "print(\"rowmax\", newarr.max(0))"
   ]
  },
  {
   "cell_type": "code",
   "execution_count": 60,
   "id": "01e3bac1-9d0f-4c0d-b3e9-c1494d0c34e6",
   "metadata": {},
   "outputs": [
    {
     "name": "stdout",
     "output_type": "stream",
     "text": [
      "colmax [7 6 7]\n"
     ]
    }
   ],
   "source": [
    "print(\"colmax\", newarr.max(1))"
   ]
  },
  {
   "cell_type": "markdown",
   "id": "7df29917-7b17-471e-befb-679a57fd63dd",
   "metadata": {},
   "source": [
    "## seed function"
   ]
  },
  {
   "cell_type": "code",
   "execution_count": 68,
   "id": "7c837296-1410-45f2-bf52-3cfe39cfc9e7",
   "metadata": {},
   "outputs": [
    {
     "data": {
      "text/plain": [
       "array([9, 4, 9, 9, 1, 6, 4, 6, 8, 7])"
      ]
     },
     "execution_count": 68,
     "metadata": {},
     "output_type": "execute_result"
    }
   ],
   "source": [
    "np.random.seed(3)\n",
    "np.random.randint(1,10,10)"
   ]
  },
  {
   "cell_type": "code",
   "execution_count": 69,
   "id": "ba3edfa7-b852-4d90-a68a-8e715e797e16",
   "metadata": {},
   "outputs": [
    {
     "data": {
      "text/plain": [
       "array([1, 5, 8, 9, 2, 7, 3, 3, 2, 4])"
      ]
     },
     "execution_count": 69,
     "metadata": {},
     "output_type": "execute_result"
    }
   ],
   "source": [
    "np.random.randint(1,10,10)"
   ]
  },
  {
   "cell_type": "markdown",
   "id": "b369d68a-717d-4cc9-b3e0-fedb0dc9de37",
   "metadata": {},
   "source": [
    "## sorting function"
   ]
  },
  {
   "cell_type": "code",
   "execution_count": 70,
   "id": "3f79a0c6-0999-4adb-a00d-34aa94c03006",
   "metadata": {},
   "outputs": [],
   "source": [
    "np.random.seed(3)\n",
    "arrsort = np.random.randint(1,10,(10,10))"
   ]
  },
  {
   "cell_type": "code",
   "execution_count": 71,
   "id": "ac64e379-44a8-473e-b2d9-f5e318bfef74",
   "metadata": {},
   "outputs": [
    {
     "data": {
      "text/plain": [
       "array([[9, 4, 9, 9, 1, 6, 4, 6, 8, 7],\n",
       "       [1, 5, 8, 9, 2, 7, 3, 3, 2, 4],\n",
       "       [6, 9, 2, 9, 8, 9, 2, 1, 6, 5],\n",
       "       [2, 6, 5, 8, 7, 1, 1, 3, 5, 6],\n",
       "       [9, 9, 8, 6, 2, 2, 2, 6, 6, 8],\n",
       "       [5, 4, 1, 1, 1, 1, 3, 3, 8, 1],\n",
       "       [6, 1, 2, 5, 2, 3, 3, 5, 9, 1],\n",
       "       [7, 1, 5, 2, 6, 2, 9, 9, 8, 1],\n",
       "       [1, 2, 8, 9, 8, 5, 1, 1, 5, 4],\n",
       "       [1, 9, 3, 8, 3, 2, 4, 3, 5, 2]])"
      ]
     },
     "execution_count": 71,
     "metadata": {},
     "output_type": "execute_result"
    }
   ],
   "source": [
    "arrsort"
   ]
  },
  {
   "cell_type": "code",
   "execution_count": 72,
   "id": "d427de3f-0d4c-4135-8ae4-ffe81b393cb1",
   "metadata": {},
   "outputs": [
    {
     "data": {
      "text/plain": [
       "array([[1, 4, 4, 6, 6, 7, 8, 9, 9, 9],\n",
       "       [1, 2, 2, 3, 3, 4, 5, 7, 8, 9],\n",
       "       [1, 2, 2, 5, 6, 6, 8, 9, 9, 9],\n",
       "       [1, 1, 2, 3, 5, 5, 6, 6, 7, 8],\n",
       "       [2, 2, 2, 6, 6, 6, 8, 8, 9, 9],\n",
       "       [1, 1, 1, 1, 1, 3, 3, 4, 5, 8],\n",
       "       [1, 1, 2, 2, 3, 3, 5, 5, 6, 9],\n",
       "       [1, 1, 2, 2, 5, 6, 7, 8, 9, 9],\n",
       "       [1, 1, 1, 2, 4, 5, 5, 8, 8, 9],\n",
       "       [1, 2, 2, 3, 3, 3, 4, 5, 8, 9]])"
      ]
     },
     "execution_count": 72,
     "metadata": {},
     "output_type": "execute_result"
    }
   ],
   "source": [
    "np.sort(arrsort)"
   ]
  },
  {
   "cell_type": "code",
   "execution_count": 73,
   "id": "80f93659-a49f-4cdb-a297-80a28fea99d7",
   "metadata": {},
   "outputs": [
    {
     "data": {
      "text/plain": [
       "array([[1, 1, 1, 1, 1, 1, 1, 1, 2, 1],\n",
       "       [1, 1, 2, 2, 1, 1, 1, 1, 5, 1],\n",
       "       [1, 2, 2, 5, 2, 2, 2, 3, 5, 1],\n",
       "       [2, 4, 3, 6, 2, 2, 2, 3, 5, 2],\n",
       "       [5, 4, 5, 8, 2, 2, 3, 3, 6, 4],\n",
       "       [6, 5, 5, 8, 3, 3, 3, 3, 6, 4],\n",
       "       [6, 6, 8, 9, 6, 5, 3, 5, 8, 5],\n",
       "       [7, 9, 8, 9, 7, 6, 4, 6, 8, 6],\n",
       "       [9, 9, 8, 9, 8, 7, 4, 6, 8, 7],\n",
       "       [9, 9, 9, 9, 8, 9, 9, 9, 9, 8]])"
      ]
     },
     "execution_count": 73,
     "metadata": {},
     "output_type": "execute_result"
    }
   ],
   "source": [
    "np.sort(arrsort,0)"
   ]
  },
  {
   "cell_type": "code",
   "execution_count": 74,
   "id": "74bc1b74-56a4-490b-bc45-19f071086479",
   "metadata": {},
   "outputs": [
    {
     "data": {
      "text/plain": [
       "array([[1, 4, 4, 6, 6, 7, 8, 9, 9, 9],\n",
       "       [1, 2, 2, 3, 3, 4, 5, 7, 8, 9],\n",
       "       [1, 2, 2, 5, 6, 6, 8, 9, 9, 9],\n",
       "       [1, 1, 2, 3, 5, 5, 6, 6, 7, 8],\n",
       "       [2, 2, 2, 6, 6, 6, 8, 8, 9, 9],\n",
       "       [1, 1, 1, 1, 1, 3, 3, 4, 5, 8],\n",
       "       [1, 1, 2, 2, 3, 3, 5, 5, 6, 9],\n",
       "       [1, 1, 2, 2, 5, 6, 7, 8, 9, 9],\n",
       "       [1, 1, 1, 2, 4, 5, 5, 8, 8, 9],\n",
       "       [1, 2, 2, 3, 3, 3, 4, 5, 8, 9]])"
      ]
     },
     "execution_count": 74,
     "metadata": {},
     "output_type": "execute_result"
    }
   ],
   "source": [
    "np.sort(arrsort,1)"
   ]
  },
  {
   "cell_type": "markdown",
   "id": "9dc5da2e-16e1-4675-88d3-07edb7e36c05",
   "metadata": {},
   "source": [
    "## addition"
   ]
  },
  {
   "cell_type": "code",
   "execution_count": 76,
   "id": "a5df125d-1983-44a6-9e6e-7c004eea21d0",
   "metadata": {},
   "outputs": [
    {
     "data": {
      "text/plain": [
       "array([[10,  5, 10, 10,  2],\n",
       "       [ 7,  5,  7,  9,  8],\n",
       "       [ 2,  6,  9, 10,  3]])"
      ]
     },
     "execution_count": 76,
     "metadata": {},
     "output_type": "execute_result"
    }
   ],
   "source": [
    "np.random.seed(3)\n",
    "arr = np.random.randint(1,10,(3,5))\n",
    "arr+1"
   ]
  },
  {
   "cell_type": "markdown",
   "id": "22890699-ee0e-44ec-83f0-58fc998e01b9",
   "metadata": {},
   "source": [
    "## subtraction"
   ]
  },
  {
   "cell_type": "code",
   "execution_count": 77,
   "id": "dfa81edb-5ca9-4d88-a405-11c2abb7b82a",
   "metadata": {},
   "outputs": [
    {
     "data": {
      "text/plain": [
       "array([[8, 3, 8, 8, 0],\n",
       "       [5, 3, 5, 7, 6],\n",
       "       [0, 4, 7, 8, 1]])"
      ]
     },
     "execution_count": 77,
     "metadata": {},
     "output_type": "execute_result"
    }
   ],
   "source": [
    "arr-1"
   ]
  },
  {
   "cell_type": "markdown",
   "id": "042eaa98-f47d-4cff-91c4-ca337c34654d",
   "metadata": {},
   "source": [
    "## division"
   ]
  },
  {
   "cell_type": "code",
   "execution_count": 78,
   "id": "c0ee2332-292e-416c-9832-99f80b8e3eba",
   "metadata": {},
   "outputs": [
    {
     "data": {
      "text/plain": [
       "array([[4.5, 2. , 4.5, 4.5, 0.5],\n",
       "       [3. , 2. , 3. , 4. , 3.5],\n",
       "       [0.5, 2.5, 4. , 4.5, 1. ]])"
      ]
     },
     "execution_count": 78,
     "metadata": {},
     "output_type": "execute_result"
    }
   ],
   "source": [
    "arr/2"
   ]
  },
  {
   "cell_type": "markdown",
   "id": "d13ae02e-4d47-43bc-9425-e4cec505eb8d",
   "metadata": {},
   "source": [
    "## multiplication"
   ]
  },
  {
   "cell_type": "code",
   "execution_count": 79,
   "id": "2fb1fdec-7d26-4086-9288-4f5c01e4b979",
   "metadata": {},
   "outputs": [
    {
     "data": {
      "text/plain": [
       "array([[18,  8, 18, 18,  2],\n",
       "       [12,  8, 12, 16, 14],\n",
       "       [ 2, 10, 16, 18,  4]])"
      ]
     },
     "execution_count": 79,
     "metadata": {},
     "output_type": "execute_result"
    }
   ],
   "source": [
    "arr * 2"
   ]
  },
  {
   "cell_type": "markdown",
   "id": "a9a2ad6c-56db-4d7c-bf6e-799f05a8566e",
   "metadata": {},
   "source": [
    "## matrix multiplication"
   ]
  },
  {
   "cell_type": "code",
   "execution_count": 80,
   "id": "5a8057bb-3c0a-4730-a7a1-b88cc2cd4e14",
   "metadata": {},
   "outputs": [
    {
     "name": "stdout",
     "output_type": "stream",
     "text": [
      "[[9 4]\n",
      " [9 9]]\n",
      "[[1 6]\n",
      " [4 6]]\n"
     ]
    }
   ],
   "source": [
    "np.random.seed(3)\n",
    "arr1 = np.random.randint(1,10,(2,2))\n",
    "arr2 = np.random.randint(1,10,(2,2))\n",
    "print(arr1)\n",
    "print(arr2)"
   ]
  },
  {
   "cell_type": "code",
   "execution_count": 82,
   "id": "c25114fa-4c27-4c8d-bdd3-3d99b7b53644",
   "metadata": {},
   "outputs": [
    {
     "data": {
      "text/plain": [
       "array([[ 25,  78],\n",
       "       [ 45, 108]])"
      ]
     },
     "execution_count": 82,
     "metadata": {},
     "output_type": "execute_result"
    }
   ],
   "source": [
    "arr1.dot(arr2)"
   ]
  },
  {
   "cell_type": "code",
   "execution_count": 83,
   "id": "c63aaa77-733e-4781-8921-f640b9e1c7a5",
   "metadata": {},
   "outputs": [
    {
     "data": {
      "text/plain": [
       "array([[63, 58],\n",
       "       [90, 70]])"
      ]
     },
     "execution_count": 83,
     "metadata": {},
     "output_type": "execute_result"
    }
   ],
   "source": [
    "arr2.dot(arr1)"
   ]
  },
  {
   "cell_type": "markdown",
   "id": "7ca28e5b-778b-46be-a007-d2dcd83c18a9",
   "metadata": {},
   "source": [
    "## power"
   ]
  },
  {
   "cell_type": "code",
   "execution_count": 84,
   "id": "ecef19ad-b122-45a5-a2a1-5e1a938f0010",
   "metadata": {},
   "outputs": [
    {
     "data": {
      "text/plain": [
       "array([[81, 16, 81, 81,  1],\n",
       "       [36, 16, 36, 64, 49],\n",
       "       [ 1, 25, 64, 81,  4]])"
      ]
     },
     "execution_count": 84,
     "metadata": {},
     "output_type": "execute_result"
    }
   ],
   "source": [
    "arr**2"
   ]
  },
  {
   "cell_type": "markdown",
   "id": "6dc5a7c9-1398-4986-964f-7f4e436eea6a",
   "metadata": {},
   "source": [
    "## percentile function"
   ]
  },
  {
   "cell_type": "code",
   "execution_count": 87,
   "id": "dcb02ed7-ba45-4cb0-a99d-41968324f252",
   "metadata": {},
   "outputs": [
    {
     "data": {
      "text/plain": [
       "array([9, 4, 9, 9, 1, 6, 4, 6, 8, 7])"
      ]
     },
     "execution_count": 87,
     "metadata": {},
     "output_type": "execute_result"
    }
   ],
   "source": [
    "np.random.seed(3)\n",
    "arr1 = np.random.randint(1,10,10)\n",
    "arr1"
   ]
  },
  {
   "cell_type": "code",
   "execution_count": 88,
   "id": "d36c223e-c517-459d-9349-6820904f4ee5",
   "metadata": {},
   "outputs": [
    {
     "data": {
      "text/plain": [
       "array([1, 4, 4, 6, 6, 7, 8, 9, 9, 9])"
      ]
     },
     "execution_count": 88,
     "metadata": {},
     "output_type": "execute_result"
    }
   ],
   "source": [
    "arr1 = np.sort(arr1)\n",
    "arr1"
   ]
  },
  {
   "cell_type": "code",
   "execution_count": 91,
   "id": "03b2114f-32fa-4fd8-93e0-3d197c59cc74",
   "metadata": {},
   "outputs": [
    {
     "data": {
      "text/plain": [
       "6.5"
      ]
     },
     "execution_count": 91,
     "metadata": {},
     "output_type": "execute_result"
    }
   ],
   "source": [
    "np.percentile(arr1,50)"
   ]
  },
  {
   "cell_type": "markdown",
   "id": "a04bc937-339e-4de4-ab95-75e028380add",
   "metadata": {},
   "source": [
    "## mean, variance, std dev"
   ]
  },
  {
   "cell_type": "code",
   "execution_count": 92,
   "id": "7b156f01-4471-44fd-b7ba-f53157d11ae4",
   "metadata": {},
   "outputs": [
    {
     "data": {
      "text/plain": [
       "array([9, 4, 9, 9, 1, 6, 4, 6, 8, 7])"
      ]
     },
     "execution_count": 92,
     "metadata": {},
     "output_type": "execute_result"
    }
   ],
   "source": [
    "np.random.seed(3)\n",
    "arr1 = np.random.randint(1,10,10)\n",
    "arr1"
   ]
  },
  {
   "cell_type": "code",
   "execution_count": 94,
   "id": "7e04fbd9-f1d3-48df-87a7-54a4cd984ac5",
   "metadata": {},
   "outputs": [
    {
     "data": {
      "text/plain": [
       "6.3"
      ]
     },
     "execution_count": 94,
     "metadata": {},
     "output_type": "execute_result"
    }
   ],
   "source": [
    "arr1.mean()"
   ]
  },
  {
   "cell_type": "code",
   "execution_count": 96,
   "id": "784869f4-4c21-405e-8404-ba40931ee8d9",
   "metadata": {},
   "outputs": [
    {
     "data": {
      "text/plain": [
       "6.410000000000001"
      ]
     },
     "execution_count": 96,
     "metadata": {},
     "output_type": "execute_result"
    }
   ],
   "source": [
    "arr1.var()"
   ]
  },
  {
   "cell_type": "code",
   "execution_count": 97,
   "id": "7c67e1dd-e993-4a99-bd7b-56b27a899b16",
   "metadata": {},
   "outputs": [
    {
     "data": {
      "text/plain": [
       "2.5317977802344327"
      ]
     },
     "execution_count": 97,
     "metadata": {},
     "output_type": "execute_result"
    }
   ],
   "source": [
    "arr1.std()"
   ]
  },
  {
   "cell_type": "markdown",
   "id": "6ecf7776-f489-43aa-967c-81442933ba27",
   "metadata": {},
   "source": [
    "## filtering an array"
   ]
  },
  {
   "cell_type": "code",
   "execution_count": 101,
   "id": "99dc454c-9eed-414d-81f6-7e0fd8b6cfb2",
   "metadata": {},
   "outputs": [
    {
     "data": {
      "text/plain": [
       "array([26, 27, 28, 29, 30, 31, 32, 33, 34, 35, 36, 37, 38, 39, 40, 41, 42,\n",
       "       43, 44, 45, 46, 47, 48, 49])"
      ]
     },
     "execution_count": 101,
     "metadata": {},
     "output_type": "execute_result"
    }
   ],
   "source": [
    "arr = np.arange(1,50)\n",
    "arr[arr>25]"
   ]
  },
  {
   "cell_type": "markdown",
   "id": "5ce042c1-39ff-49fb-8256-ec8481dc7056",
   "metadata": {},
   "source": [
    "## transpose of array"
   ]
  },
  {
   "cell_type": "code",
   "execution_count": 104,
   "id": "8a9ecd76-772e-4f5b-9ac3-2d55a081433f",
   "metadata": {},
   "outputs": [
    {
     "data": {
      "text/plain": [
       "array([[ 2, 16, 17,  6, 18],\n",
       "       [15,  1,  1, 10, 19],\n",
       "       [ 6,  8,  6, 15,  2]])"
      ]
     },
     "execution_count": 104,
     "metadata": {},
     "output_type": "execute_result"
    }
   ],
   "source": [
    "arr = np.random.randint(1,20,(3,5))\n",
    "arr"
   ]
  },
  {
   "cell_type": "code",
   "execution_count": 105,
   "id": "9c305425-7f0c-4981-a129-33054c9dee16",
   "metadata": {},
   "outputs": [
    {
     "data": {
      "text/plain": [
       "array([[ 2, 15,  6],\n",
       "       [16,  1,  8],\n",
       "       [17,  1,  6],\n",
       "       [ 6, 10, 15],\n",
       "       [18, 19,  2]])"
      ]
     },
     "execution_count": 105,
     "metadata": {},
     "output_type": "execute_result"
    }
   ],
   "source": [
    "arr.T"
   ]
  },
  {
   "cell_type": "markdown",
   "id": "567837d9-87c4-446e-94fa-079b25895fee",
   "metadata": {},
   "source": [
    "## where function"
   ]
  },
  {
   "cell_type": "code",
   "execution_count": 106,
   "id": "411e4454-fae1-4f6b-9694-86136f082517",
   "metadata": {},
   "outputs": [
    {
     "data": {
      "text/plain": [
       "array([ 2, 86, 75, 92, 17, 81, 33, 17, 19, 76])"
      ]
     },
     "execution_count": 106,
     "metadata": {},
     "output_type": "execute_result"
    }
   ],
   "source": [
    "arr = np.random.randint(1,100,10)\n",
    "arr"
   ]
  },
  {
   "cell_type": "code",
   "execution_count": 116,
   "id": "1e6b51cc-1075-4791-b770-693acc8e467e",
   "metadata": {},
   "outputs": [
    {
     "data": {
      "text/plain": [
       "array(['even', 'even', '75', 'even', '17', '81', '33', '17', '19', 'even'],\n",
       "      dtype='<U11')"
      ]
     },
     "execution_count": 116,
     "metadata": {},
     "output_type": "execute_result"
    }
   ],
   "source": [
    "np.where(arr%2 ==0,\"even\",arr)"
   ]
  },
  {
   "cell_type": "code",
   "execution_count": 117,
   "id": "216523c8-1430-4d27-aadb-7dbf8bd0f90b",
   "metadata": {},
   "outputs": [
    {
     "data": {
      "text/plain": [
       "array(['2', '86', 'odd', '92', 'odd', 'odd', 'odd', 'odd', 'odd', '76'],\n",
       "      dtype='<U11')"
      ]
     },
     "execution_count": 117,
     "metadata": {},
     "output_type": "execute_result"
    }
   ],
   "source": [
    "np.where(arr%2 !=0,\"odd\",arr)"
   ]
  },
  {
   "cell_type": "markdown",
   "id": "32d2f833-5c02-4096-9fe4-1a52382345df",
   "metadata": {},
   "source": [
    "## concatenate"
   ]
  },
  {
   "cell_type": "code",
   "execution_count": 119,
   "id": "ef90fd12-3dab-4246-8151-e06226532a79",
   "metadata": {},
   "outputs": [
    {
     "data": {
      "text/plain": [
       "array([[ 3, 29, 37, 91],\n",
       "       [45, 49, 60, 75]])"
      ]
     },
     "execution_count": 119,
     "metadata": {},
     "output_type": "execute_result"
    }
   ],
   "source": [
    "arr1 = np.random.randint(1,100,(2,4))\n",
    "arr2 = np.random.randint(1,100,(2,4))\n",
    "arr1"
   ]
  },
  {
   "cell_type": "code",
   "execution_count": 120,
   "id": "ac99fc01-6529-470b-bc27-fba2f845f96a",
   "metadata": {},
   "outputs": [
    {
     "data": {
      "text/plain": [
       "array([[55, 92, 22, 57],\n",
       "       [40, 30, 33, 49]])"
      ]
     },
     "execution_count": 120,
     "metadata": {},
     "output_type": "execute_result"
    }
   ],
   "source": [
    "arr2"
   ]
  },
  {
   "cell_type": "code",
   "execution_count": 121,
   "id": "ffe41a32-1044-49b4-a63e-cbf38e76b8cb",
   "metadata": {},
   "outputs": [
    {
     "data": {
      "text/plain": [
       "array([[ 3, 29, 37, 91],\n",
       "       [45, 49, 60, 75],\n",
       "       [55, 92, 22, 57],\n",
       "       [40, 30, 33, 49]])"
      ]
     },
     "execution_count": 121,
     "metadata": {},
     "output_type": "execute_result"
    }
   ],
   "source": [
    "np.concatenate((arr1,arr2),0)"
   ]
  },
  {
   "cell_type": "code",
   "execution_count": 122,
   "id": "c701a8e0-2fa7-476f-8ba7-b521e075977a",
   "metadata": {},
   "outputs": [
    {
     "data": {
      "text/plain": [
       "array([[ 3, 29, 37, 91, 55, 92, 22, 57],\n",
       "       [45, 49, 60, 75, 40, 30, 33, 49]])"
      ]
     },
     "execution_count": 122,
     "metadata": {},
     "output_type": "execute_result"
    }
   ],
   "source": [
    "np.concatenate((arr1,arr2),1)"
   ]
  },
  {
   "cell_type": "markdown",
   "id": "dc536737-6f4a-4eab-8160-04d9d95a65d4",
   "metadata": {},
   "source": [
    "## vstack & hstack"
   ]
  },
  {
   "cell_type": "code",
   "execution_count": 123,
   "id": "353abfae-0142-4c5a-b50d-4840ad743793",
   "metadata": {},
   "outputs": [
    {
     "data": {
      "text/plain": [
       "array([[10, 34, 61, 89],\n",
       "       [56, 12, 85, 11]])"
      ]
     },
     "execution_count": 123,
     "metadata": {},
     "output_type": "execute_result"
    }
   ],
   "source": [
    "arr1 = np.random.randint(1,100,(2,4))\n",
    "arr2 = np.random.randint(1,100,(2,4))\n",
    "arr1"
   ]
  },
  {
   "cell_type": "code",
   "execution_count": 124,
   "id": "02cc47de-6d2c-4142-a1f7-1f12a3e82c10",
   "metadata": {},
   "outputs": [
    {
     "data": {
      "text/plain": [
       "array([[81, 77, 69, 45],\n",
       "       [45, 20, 17, 99]])"
      ]
     },
     "execution_count": 124,
     "metadata": {},
     "output_type": "execute_result"
    }
   ],
   "source": [
    "arr2"
   ]
  },
  {
   "cell_type": "code",
   "execution_count": 126,
   "id": "b0bc108a-2f04-4d0b-b99a-098ec4ea4ae0",
   "metadata": {},
   "outputs": [
    {
     "data": {
      "text/plain": [
       "array([[10, 34, 61, 89, 81, 77, 69, 45],\n",
       "       [56, 12, 85, 11, 45, 20, 17, 99]])"
      ]
     },
     "execution_count": 126,
     "metadata": {},
     "output_type": "execute_result"
    }
   ],
   "source": [
    "np.hstack((arr1,arr2))"
   ]
  },
  {
   "cell_type": "code",
   "execution_count": 127,
   "id": "0d736504-eb62-4080-9dd4-18349b52297e",
   "metadata": {},
   "outputs": [
    {
     "data": {
      "text/plain": [
       "array([[10, 34, 61, 89],\n",
       "       [56, 12, 85, 11],\n",
       "       [81, 77, 69, 45],\n",
       "       [45, 20, 17, 99]])"
      ]
     },
     "execution_count": 127,
     "metadata": {},
     "output_type": "execute_result"
    }
   ],
   "source": [
    "np.vstack((arr1,arr2))"
   ]
  },
  {
   "cell_type": "markdown",
   "id": "bcc2352c-41dd-4f66-9e7e-4757b0f26f8b",
   "metadata": {},
   "source": [
    "## splitting arrays"
   ]
  },
  {
   "cell_type": "code",
   "execution_count": 128,
   "id": "13bcd0ac-6600-4080-a533-3af4875f8aaf",
   "metadata": {},
   "outputs": [],
   "source": [
    "arr1 = np.random.randint(1,100,(4,4))"
   ]
  },
  {
   "cell_type": "code",
   "execution_count": 129,
   "id": "34484bec-6e4b-44e8-9169-9c4d64c01169",
   "metadata": {},
   "outputs": [
    {
     "data": {
      "text/plain": [
       "array([[40, 51, 66, 36],\n",
       "       [46, 53,  2, 19],\n",
       "       [64,  3, 88, 21],\n",
       "       [63, 82, 23, 93]])"
      ]
     },
     "execution_count": 129,
     "metadata": {},
     "output_type": "execute_result"
    }
   ],
   "source": [
    "arr1"
   ]
  },
  {
   "cell_type": "code",
   "execution_count": 130,
   "id": "d9418685-273d-4878-a682-700ce82cde7d",
   "metadata": {},
   "outputs": [
    {
     "data": {
      "text/plain": [
       "[array([[40, 51, 66, 36],\n",
       "        [46, 53,  2, 19]]),\n",
       " array([[64,  3, 88, 21],\n",
       "        [63, 82, 23, 93]])]"
      ]
     },
     "execution_count": 130,
     "metadata": {},
     "output_type": "execute_result"
    }
   ],
   "source": [
    "np.vsplit(arr1,2)"
   ]
  },
  {
   "cell_type": "code",
   "execution_count": 131,
   "id": "cdd71230-4a1e-44dd-992a-0fedea8a06f3",
   "metadata": {},
   "outputs": [
    {
     "data": {
      "text/plain": [
       "[array([[40, 51],\n",
       "        [46, 53],\n",
       "        [64,  3],\n",
       "        [63, 82]]),\n",
       " array([[66, 36],\n",
       "        [ 2, 19],\n",
       "        [88, 21],\n",
       "        [23, 93]])]"
      ]
     },
     "execution_count": 131,
     "metadata": {},
     "output_type": "execute_result"
    }
   ],
   "source": [
    "np.hsplit(arr1,2)"
   ]
  },
  {
   "cell_type": "markdown",
   "id": "b8f0f289-5105-4413-9c49-c1cbbabc43e3",
   "metadata": {},
   "source": [
    "## turning pics into numpy arrays"
   ]
  },
  {
   "cell_type": "markdown",
   "id": "b3e86011-1c76-4c1a-b508-24d112535498",
   "metadata": {},
   "source": [
    "<img src='download.jpg'>"
   ]
  },
  {
   "cell_type": "code",
   "execution_count": 135,
   "id": "25130ccd-757d-41a1-b3b2-fe96ebefa021",
   "metadata": {},
   "outputs": [],
   "source": [
    "from matplotlib.image import imread"
   ]
  },
  {
   "cell_type": "code",
   "execution_count": 136,
   "id": "fda16841-d0bd-48d1-85c1-e134bbd618fd",
   "metadata": {},
   "outputs": [],
   "source": [
    "img = imread('download.jpg')"
   ]
  },
  {
   "cell_type": "code",
   "execution_count": 137,
   "id": "3b2fbc1c-2ee6-4715-bbac-a7abf8acd9ce",
   "metadata": {},
   "outputs": [
    {
     "data": {
      "text/plain": [
       "array([[[ 68,  49,   0],\n",
       "        [121, 100,  17],\n",
       "        [140, 116,  30],\n",
       "        ...,\n",
       "        [ 60,  74,  13],\n",
       "        [ 76,  90,  29],\n",
       "        [ 48,  62,   1]],\n",
       "\n",
       "       [[110,  92,  16],\n",
       "        [160, 142,  60],\n",
       "        [126, 104,  18],\n",
       "        ...,\n",
       "        [ 79,  91,  27],\n",
       "        [ 86,  98,  34],\n",
       "        [ 74,  86,  22]],\n",
       "\n",
       "       [[104,  87,  17],\n",
       "        [102,  83,   7],\n",
       "        [ 51,  29,   0],\n",
       "        ...,\n",
       "        [ 70,  79,  12],\n",
       "        [ 63,  72,   5],\n",
       "        [ 74,  83,  16]],\n",
       "\n",
       "       ...,\n",
       "\n",
       "       [[ 33,  30,   0],\n",
       "        [ 24,  30,   0],\n",
       "        [ 48,  59,  16],\n",
       "        ...,\n",
       "        [ 61,  88,  11],\n",
       "        [ 62,  89,  12],\n",
       "        [ 63,  90,  13]],\n",
       "\n",
       "       [[ 49,  46,   3],\n",
       "        [ 36,  42,   0],\n",
       "        [ 70,  81,  38],\n",
       "        ...,\n",
       "        [ 46,  73,   0],\n",
       "        [ 47,  74,   0],\n",
       "        [ 48,  75,   0]],\n",
       "\n",
       "       [[ 55,  52,  11],\n",
       "        [ 18,  23,   0],\n",
       "        [ 15,  26,   0],\n",
       "        ...,\n",
       "        [ 58,  85,   8],\n",
       "        [ 58,  85,   8],\n",
       "        [ 58,  85,   8]]], dtype=uint8)"
      ]
     },
     "execution_count": 137,
     "metadata": {},
     "output_type": "execute_result"
    }
   ],
   "source": [
    "img"
   ]
  },
  {
   "cell_type": "code",
   "execution_count": 138,
   "id": "313c9605-34dd-4266-b4c2-f0de0c780769",
   "metadata": {},
   "outputs": [
    {
     "data": {
      "text/plain": [
       "(183, 275, 3)"
      ]
     },
     "execution_count": 138,
     "metadata": {},
     "output_type": "execute_result"
    }
   ],
   "source": [
    "img.shape"
   ]
  },
  {
   "cell_type": "code",
   "execution_count": null,
   "id": "9979ce1c-f20f-42d7-9853-f16e1b84100b",
   "metadata": {},
   "outputs": [],
   "source": []
  }
 ],
 "metadata": {
  "kernelspec": {
   "display_name": "Python 3 (ipykernel)",
   "language": "python",
   "name": "python3"
  },
  "language_info": {
   "codemirror_mode": {
    "name": "ipython",
    "version": 3
   },
   "file_extension": ".py",
   "mimetype": "text/x-python",
   "name": "python",
   "nbconvert_exporter": "python",
   "pygments_lexer": "ipython3",
   "version": "3.11.7"
  }
 },
 "nbformat": 4,
 "nbformat_minor": 5
}
