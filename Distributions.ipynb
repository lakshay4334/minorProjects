{
 "cells": [
  {
   "cell_type": "code",
   "execution_count": 1,
   "id": "8b31b390-cfd4-44d5-afc9-6ba6b3f637ce",
   "metadata": {},
   "outputs": [],
   "source": [
    "import pandas as pd\n",
    "from scipy.stats import binom"
   ]
  },
  {
   "cell_type": "code",
   "execution_count": 2,
   "id": "448450ce-a593-4aac-bc9a-f38034859246",
   "metadata": {},
   "outputs": [],
   "source": [
    "number_of_trials = 20\n",
    "prob_of_success = 0.25\n"
   ]
  },
  {
   "cell_type": "code",
   "execution_count": 4,
   "id": "b576cee7-e51f-46c6-9e8a-5da77c0665bc",
   "metadata": {},
   "outputs": [
    {
     "data": {
      "text/plain": [
       "0.16860929321410364"
      ]
     },
     "execution_count": 4,
     "metadata": {},
     "output_type": "execute_result"
    }
   ],
   "source": [
    "binom.pmf(6, number_of_trials, prob_of_success)"
   ]
  },
  {
   "cell_type": "code",
   "execution_count": 5,
   "id": "19d77bb9-f136-4fe4-ab4f-4cbd361805f7",
   "metadata": {},
   "outputs": [],
   "source": [
    "successes = list(range(0,number_of_trials+1))"
   ]
  },
  {
   "cell_type": "code",
   "execution_count": 9,
   "id": "73e9de78-0154-4acf-8510-733946ac9514",
   "metadata": {},
   "outputs": [],
   "source": [
    "df = pd.DataFrame(successes)"
   ]
  },
  {
   "cell_type": "code",
   "execution_count": 10,
   "id": "e898ef4f-6a85-40c9-a983-8edc3b0c6fd4",
   "metadata": {},
   "outputs": [
    {
     "data": {
      "text/html": [
       "<div>\n",
       "<style scoped>\n",
       "    .dataframe tbody tr th:only-of-type {\n",
       "        vertical-align: middle;\n",
       "    }\n",
       "\n",
       "    .dataframe tbody tr th {\n",
       "        vertical-align: top;\n",
       "    }\n",
       "\n",
       "    .dataframe thead th {\n",
       "        text-align: right;\n",
       "    }\n",
       "</style>\n",
       "<table border=\"1\" class=\"dataframe\">\n",
       "  <thead>\n",
       "    <tr style=\"text-align: right;\">\n",
       "      <th></th>\n",
       "      <th>0</th>\n",
       "    </tr>\n",
       "  </thead>\n",
       "  <tbody>\n",
       "    <tr>\n",
       "      <th>0</th>\n",
       "      <td>0</td>\n",
       "    </tr>\n",
       "    <tr>\n",
       "      <th>1</th>\n",
       "      <td>1</td>\n",
       "    </tr>\n",
       "    <tr>\n",
       "      <th>2</th>\n",
       "      <td>2</td>\n",
       "    </tr>\n",
       "    <tr>\n",
       "      <th>3</th>\n",
       "      <td>3</td>\n",
       "    </tr>\n",
       "    <tr>\n",
       "      <th>4</th>\n",
       "      <td>4</td>\n",
       "    </tr>\n",
       "    <tr>\n",
       "      <th>5</th>\n",
       "      <td>5</td>\n",
       "    </tr>\n",
       "    <tr>\n",
       "      <th>6</th>\n",
       "      <td>6</td>\n",
       "    </tr>\n",
       "    <tr>\n",
       "      <th>7</th>\n",
       "      <td>7</td>\n",
       "    </tr>\n",
       "    <tr>\n",
       "      <th>8</th>\n",
       "      <td>8</td>\n",
       "    </tr>\n",
       "    <tr>\n",
       "      <th>9</th>\n",
       "      <td>9</td>\n",
       "    </tr>\n",
       "    <tr>\n",
       "      <th>10</th>\n",
       "      <td>10</td>\n",
       "    </tr>\n",
       "    <tr>\n",
       "      <th>11</th>\n",
       "      <td>11</td>\n",
       "    </tr>\n",
       "    <tr>\n",
       "      <th>12</th>\n",
       "      <td>12</td>\n",
       "    </tr>\n",
       "    <tr>\n",
       "      <th>13</th>\n",
       "      <td>13</td>\n",
       "    </tr>\n",
       "    <tr>\n",
       "      <th>14</th>\n",
       "      <td>14</td>\n",
       "    </tr>\n",
       "    <tr>\n",
       "      <th>15</th>\n",
       "      <td>15</td>\n",
       "    </tr>\n",
       "    <tr>\n",
       "      <th>16</th>\n",
       "      <td>16</td>\n",
       "    </tr>\n",
       "    <tr>\n",
       "      <th>17</th>\n",
       "      <td>17</td>\n",
       "    </tr>\n",
       "    <tr>\n",
       "      <th>18</th>\n",
       "      <td>18</td>\n",
       "    </tr>\n",
       "    <tr>\n",
       "      <th>19</th>\n",
       "      <td>19</td>\n",
       "    </tr>\n",
       "    <tr>\n",
       "      <th>20</th>\n",
       "      <td>20</td>\n",
       "    </tr>\n",
       "  </tbody>\n",
       "</table>\n",
       "</div>"
      ],
      "text/plain": [
       "     0\n",
       "0    0\n",
       "1    1\n",
       "2    2\n",
       "3    3\n",
       "4    4\n",
       "5    5\n",
       "6    6\n",
       "7    7\n",
       "8    8\n",
       "9    9\n",
       "10  10\n",
       "11  11\n",
       "12  12\n",
       "13  13\n",
       "14  14\n",
       "15  15\n",
       "16  16\n",
       "17  17\n",
       "18  18\n",
       "19  19\n",
       "20  20"
      ]
     },
     "execution_count": 10,
     "metadata": {},
     "output_type": "execute_result"
    }
   ],
   "source": [
    "df"
   ]
  },
  {
   "cell_type": "code",
   "execution_count": 12,
   "id": "def667ff-2119-4d85-96f5-345f502f7276",
   "metadata": {},
   "outputs": [],
   "source": [
    "df = df.rename(columns = {0:\"number_of_successes\"})"
   ]
  },
  {
   "cell_type": "code",
   "execution_count": 16,
   "id": "d24ff2dd-8956-43a3-8e20-64a580147f06",
   "metadata": {},
   "outputs": [],
   "source": [
    "probability = lambda x : binom.pmf(x, number_of_trials, prob_of_success)"
   ]
  },
  {
   "cell_type": "code",
   "execution_count": 17,
   "id": "40837ba4-5e7f-4f5c-9d3d-37c661dfaa93",
   "metadata": {},
   "outputs": [],
   "source": [
    "df[\"Probability\"] = df[\"number_of_successes\"].apply(probability)"
   ]
  },
  {
   "cell_type": "code",
   "execution_count": 18,
   "id": "64d710e4-7c73-4114-859c-73c119fa4c92",
   "metadata": {},
   "outputs": [
    {
     "data": {
      "text/html": [
       "<div>\n",
       "<style scoped>\n",
       "    .dataframe tbody tr th:only-of-type {\n",
       "        vertical-align: middle;\n",
       "    }\n",
       "\n",
       "    .dataframe tbody tr th {\n",
       "        vertical-align: top;\n",
       "    }\n",
       "\n",
       "    .dataframe thead th {\n",
       "        text-align: right;\n",
       "    }\n",
       "</style>\n",
       "<table border=\"1\" class=\"dataframe\">\n",
       "  <thead>\n",
       "    <tr style=\"text-align: right;\">\n",
       "      <th></th>\n",
       "      <th>number_of_successes</th>\n",
       "      <th>Probability</th>\n",
       "    </tr>\n",
       "  </thead>\n",
       "  <tbody>\n",
       "    <tr>\n",
       "      <th>0</th>\n",
       "      <td>0</td>\n",
       "      <td>3.171212e-03</td>\n",
       "    </tr>\n",
       "    <tr>\n",
       "      <th>1</th>\n",
       "      <td>1</td>\n",
       "      <td>2.114141e-02</td>\n",
       "    </tr>\n",
       "    <tr>\n",
       "      <th>2</th>\n",
       "      <td>2</td>\n",
       "      <td>6.694781e-02</td>\n",
       "    </tr>\n",
       "    <tr>\n",
       "      <th>3</th>\n",
       "      <td>3</td>\n",
       "      <td>1.338956e-01</td>\n",
       "    </tr>\n",
       "    <tr>\n",
       "      <th>4</th>\n",
       "      <td>4</td>\n",
       "      <td>1.896855e-01</td>\n",
       "    </tr>\n",
       "    <tr>\n",
       "      <th>5</th>\n",
       "      <td>5</td>\n",
       "      <td>2.023312e-01</td>\n",
       "    </tr>\n",
       "    <tr>\n",
       "      <th>6</th>\n",
       "      <td>6</td>\n",
       "      <td>1.686093e-01</td>\n",
       "    </tr>\n",
       "    <tr>\n",
       "      <th>7</th>\n",
       "      <td>7</td>\n",
       "      <td>1.124062e-01</td>\n",
       "    </tr>\n",
       "    <tr>\n",
       "      <th>8</th>\n",
       "      <td>8</td>\n",
       "      <td>6.088669e-02</td>\n",
       "    </tr>\n",
       "    <tr>\n",
       "      <th>9</th>\n",
       "      <td>9</td>\n",
       "      <td>2.706075e-02</td>\n",
       "    </tr>\n",
       "    <tr>\n",
       "      <th>10</th>\n",
       "      <td>10</td>\n",
       "      <td>9.922275e-03</td>\n",
       "    </tr>\n",
       "    <tr>\n",
       "      <th>11</th>\n",
       "      <td>11</td>\n",
       "      <td>3.006750e-03</td>\n",
       "    </tr>\n",
       "    <tr>\n",
       "      <th>12</th>\n",
       "      <td>12</td>\n",
       "      <td>7.516875e-04</td>\n",
       "    </tr>\n",
       "    <tr>\n",
       "      <th>13</th>\n",
       "      <td>13</td>\n",
       "      <td>1.541923e-04</td>\n",
       "    </tr>\n",
       "    <tr>\n",
       "      <th>14</th>\n",
       "      <td>14</td>\n",
       "      <td>2.569872e-05</td>\n",
       "    </tr>\n",
       "    <tr>\n",
       "      <th>15</th>\n",
       "      <td>15</td>\n",
       "      <td>3.426496e-06</td>\n",
       "    </tr>\n",
       "    <tr>\n",
       "      <th>16</th>\n",
       "      <td>16</td>\n",
       "      <td>3.569266e-07</td>\n",
       "    </tr>\n",
       "    <tr>\n",
       "      <th>17</th>\n",
       "      <td>17</td>\n",
       "      <td>2.799425e-08</td>\n",
       "    </tr>\n",
       "    <tr>\n",
       "      <th>18</th>\n",
       "      <td>18</td>\n",
       "      <td>1.555236e-09</td>\n",
       "    </tr>\n",
       "    <tr>\n",
       "      <th>19</th>\n",
       "      <td>19</td>\n",
       "      <td>5.456968e-11</td>\n",
       "    </tr>\n",
       "    <tr>\n",
       "      <th>20</th>\n",
       "      <td>20</td>\n",
       "      <td>9.094947e-13</td>\n",
       "    </tr>\n",
       "  </tbody>\n",
       "</table>\n",
       "</div>"
      ],
      "text/plain": [
       "    number_of_successes   Probability\n",
       "0                     0  3.171212e-03\n",
       "1                     1  2.114141e-02\n",
       "2                     2  6.694781e-02\n",
       "3                     3  1.338956e-01\n",
       "4                     4  1.896855e-01\n",
       "5                     5  2.023312e-01\n",
       "6                     6  1.686093e-01\n",
       "7                     7  1.124062e-01\n",
       "8                     8  6.088669e-02\n",
       "9                     9  2.706075e-02\n",
       "10                   10  9.922275e-03\n",
       "11                   11  3.006750e-03\n",
       "12                   12  7.516875e-04\n",
       "13                   13  1.541923e-04\n",
       "14                   14  2.569872e-05\n",
       "15                   15  3.426496e-06\n",
       "16                   16  3.569266e-07\n",
       "17                   17  2.799425e-08\n",
       "18                   18  1.555236e-09\n",
       "19                   19  5.456968e-11\n",
       "20                   20  9.094947e-13"
      ]
     },
     "execution_count": 18,
     "metadata": {},
     "output_type": "execute_result"
    }
   ],
   "source": [
    "df"
   ]
  },
  {
   "cell_type": "code",
   "execution_count": 21,
   "id": "d399cd08-5aa6-47f2-9720-5517a9939aa5",
   "metadata": {},
   "outputs": [
    {
     "data": {
      "text/plain": [
       "<Axes: xlabel='number_of_successes'>"
      ]
     },
     "execution_count": 21,
     "metadata": {},
     "output_type": "execute_result"
    },
    {
     "data": {
      "image/png": "[encoded data removed]",
      "text/plain": [
       "<Figure size 640x480 with 1 Axes>"
      ]
     },
     "metadata": {},
     "output_type": "display_data"
    }
   ],
   "source": [
    "df.plot(x = \"number_of_successes\", y = \"Probability\", kind = \"bar\")"
   ]
  },
  {
   "cell_type": "code",
   "execution_count": 22,
   "id": "d6ccbe49-9e06-4604-bcb8-8d67a6fc6db9",
   "metadata": {},
   "outputs": [],
   "source": [
    "from scipy.stats import poisson\n",
    "from matplotlib import pyplot as plt"
   ]
  },
  {
   "cell_type": "code",
   "execution_count": 23,
   "id": "c4779f8c-ea55-498a-a246-e7dedc28bed5",
   "metadata": {},
   "outputs": [
    {
     "data": {
      "text/plain": [
       "0.0595403626097263"
      ]
     },
     "execution_count": 23,
     "metadata": {},
     "output_type": "execute_result"
    }
   ],
   "source": [
    "poisson.pmf(7,4)"
   ]
  },
  {
   "cell_type": "code",
   "execution_count": 24,
   "id": "dffe4f66-a8e7-4181-a878-b4b5f90e5a45",
   "metadata": {},
   "outputs": [
    {
     "data": {
      "text/plain": [
       "0.005561064886513308"
      ]
     },
     "execution_count": 24,
     "metadata": {},
     "output_type": "execute_result"
    }
   ],
   "source": [
    "poisson.pmf(120,100)"
   ]
  },
  {
   "cell_type": "code",
   "execution_count": 25,
   "id": "6aed8956-60e9-4cb6-87e2-936f02a314ba",
   "metadata": {},
   "outputs": [],
   "source": [
    "x = poisson.rvs(mu = 3, size = 1000)"
   ]
  },
  {
   "cell_type": "code",
   "execution_count": 26,
   "id": "c395bbd4-8533-4c1a-b128-6bf263d9ac22",
   "metadata": {},
   "outputs": [
    {
     "data": {
      "text/plain": [
       "array([ 3,  3,  7,  5,  6,  4,  4,  3,  1,  4,  6,  3,  2,  1,  7,  6,  3,\n",
       "        6,  4,  4,  4,  2,  2,  2,  3,  7,  2,  5,  4,  1,  2,  1,  2,  4,\n",
       "        2,  2,  7,  1,  7,  5,  2,  6,  4,  0,  4,  1,  3,  5,  2,  3,  3,\n",
       "        3,  6,  5,  0,  4,  4,  7,  3,  5,  5,  4,  3,  3,  7,  1,  3,  4,\n",
       "        3,  3,  2,  1,  5,  2,  4,  3,  5,  3,  6,  0,  4,  2,  2,  1,  2,\n",
       "        1,  3,  0,  7,  3,  1,  3,  5,  0,  2,  4,  1,  2,  4,  2,  2,  6,\n",
       "        4,  2,  3,  2,  4,  0,  1,  2,  4,  4,  4,  6,  2,  5,  0,  3,  2,\n",
       "        2,  0,  1,  3,  6,  6,  4,  2,  3,  7,  5,  1,  3,  2,  1,  3,  2,\n",
       "        2,  2,  5,  0,  1,  1,  1,  5,  2,  4,  3,  2,  2,  2,  5,  2,  2,\n",
       "        0,  4,  1,  5,  1,  4,  4,  2,  5,  1,  4,  1,  7,  1,  4,  1,  2,\n",
       "        3,  4,  3,  4,  3,  3,  7,  0,  2,  4,  4,  2,  5,  2,  0,  5,  4,\n",
       "        2,  2,  2,  3,  1,  6,  2,  2,  1,  3,  4,  3,  4,  1,  5,  3,  2,\n",
       "        3,  3,  2,  3,  4,  0,  2,  0,  3,  5,  1,  4,  2,  1,  7,  1,  3,\n",
       "        2,  3,  3,  2,  5,  3,  0,  2,  1,  2,  4,  2,  3,  1,  1,  3,  3,\n",
       "        3,  2,  4,  1,  2,  3,  6,  2,  3,  2,  4,  2,  5,  1,  3,  2,  2,\n",
       "        5,  2,  3,  4,  4,  2,  5,  3,  3,  3,  3,  3,  3,  2,  6,  7,  5,\n",
       "        4,  4,  2,  4,  4,  3,  2,  1,  2,  4,  3,  3,  5,  2,  2,  3,  3,\n",
       "        3,  1,  3,  4,  9,  3,  1,  5,  1,  2,  2,  0,  6,  3,  7,  2,  5,\n",
       "        4,  1,  2,  5,  4,  3,  4,  3,  2,  3,  6,  2,  2,  2,  1,  1,  1,\n",
       "        2,  5,  2,  5,  6,  5,  3,  2,  4,  2,  4,  2,  4,  2,  5,  7,  1,\n",
       "        3,  3,  3,  1,  4,  4,  2,  2,  6,  3,  2,  1,  3,  3,  2,  1,  4,\n",
       "        9,  1,  2,  2,  4,  2,  1,  3,  4,  2,  3,  3,  4,  1,  4,  1,  5,\n",
       "        2,  0,  2,  8,  7,  2,  3,  4,  8,  5,  4,  3,  6,  3,  7,  5,  3,\n",
       "        5,  2,  3,  6,  4,  2,  3,  3,  8,  3,  3,  5,  8,  0,  2,  3,  4,\n",
       "        2,  2,  3,  3,  4,  4,  3,  2,  4,  6,  5,  2,  2,  1,  2,  3,  4,\n",
       "        3,  2,  3,  2,  1,  3,  3,  7,  2,  3,  4,  5,  5,  4,  6,  2,  5,\n",
       "        4,  1,  2,  1,  5,  2,  2,  1,  4,  7,  2,  4,  2,  3,  3,  2,  1,\n",
       "        0,  4, 10,  2,  2,  4,  5,  2,  4,  1,  2,  1,  2,  3,  6,  2,  3,\n",
       "        2,  2,  2,  3,  1,  2,  4,  5,  2,  2,  0,  3,  1,  3,  3,  0,  6,\n",
       "        2,  5,  2,  3,  4,  4,  6,  1,  4,  2,  3,  5,  2,  7,  1,  5,  0,\n",
       "        3,  2,  4,  4,  3,  2,  4,  3,  1,  4,  5,  5,  3,  5,  2,  1,  5,\n",
       "        5,  1,  3,  2,  5,  3,  2,  3,  0,  3,  4,  2,  2,  2,  3,  4,  4,\n",
       "        1,  0,  4,  4,  1,  4,  3,  8,  5,  2,  2,  1,  5,  1,  2,  4,  3,\n",
       "        3,  7,  7,  3,  3,  2,  3,  2,  4,  2,  6,  2,  4,  4,  4,  2,  6,\n",
       "        1,  5,  1,  3,  0,  3,  2,  3,  1,  2,  2,  2,  1,  1,  4,  3,  3,\n",
       "        5,  3,  5,  3,  6,  3,  2,  2,  1,  5,  1,  3,  3,  4,  3,  4,  0,\n",
       "        2,  2,  4,  2,  2,  2,  1,  1,  3,  4,  3,  3,  7,  3,  5,  5,  3,\n",
       "        5,  2,  3,  4,  3,  3,  2,  2,  1,  6,  4,  1,  1,  3,  6,  3,  1,\n",
       "        3,  6,  3,  2,  2,  3,  0,  2,  3,  7,  2,  2,  4,  0,  2,  2,  4,\n",
       "        3,  5,  2,  1,  3,  4,  4,  3,  6,  3,  2,  1,  5,  3,  7,  0,  7,\n",
       "        2,  1,  2,  1,  1,  4,  4,  4,  4,  0,  1,  2,  4,  3,  4,  3,  5,\n",
       "        6,  8,  5,  1,  3,  0,  7,  5,  3,  2,  3,  2,  2,  2,  1,  5,  2,\n",
       "        2,  3,  1,  3,  2,  0,  3,  4,  3,  1,  3,  2,  5,  4,  6,  6,  2,\n",
       "        2,  4,  4,  1,  1,  4,  2,  2,  3,  1,  5,  3,  3,  2,  2,  3,  2,\n",
       "        4,  1,  3,  1,  2,  0,  6,  5,  4,  5,  4,  1,  3,  6,  4,  3,  4,\n",
       "        4,  3,  1,  1,  4,  3,  4,  2,  1,  5,  3,  2,  4,  4,  2,  1,  5,\n",
       "        3,  3,  8,  6,  3,  4,  3,  2,  3,  2,  5,  2,  0,  2,  4,  9,  6,\n",
       "        2,  0,  0,  3,  1,  5,  3,  3,  1,  1,  2,  3,  4,  5,  5,  2,  2,\n",
       "        0,  5,  2,  4,  3,  3,  3,  3,  2,  3,  9,  2,  3,  3,  5,  1,  5,\n",
       "        1,  4,  6,  3,  3,  2,  4,  6,  2,  4,  2,  3,  2,  0,  2,  0,  2,\n",
       "        4,  1,  6,  1,  2,  3,  1,  4,  1,  6,  1,  6,  5,  3,  0,  2,  2,\n",
       "        4,  4,  2,  1,  3,  3,  2,  5,  1,  1,  5,  6,  5,  3,  0,  2,  2,\n",
       "        2,  0,  3,  4,  6,  3,  0,  1,  0,  1,  2,  6,  2,  3,  2,  1,  2,\n",
       "        1,  3,  4,  4,  1,  3,  5,  3,  2,  0,  5,  2,  2,  2,  6,  1,  3,\n",
       "        2,  2,  4,  3,  6,  6,  4,  5,  4,  2,  2,  3,  2,  5,  3,  6,  4,\n",
       "        3,  2,  3,  4,  1,  3,  2,  3,  5,  4,  8,  2,  5,  2,  3,  4,  0,\n",
       "        1,  3,  2,  4,  5,  6,  1,  2,  4,  3,  5,  1,  1,  3,  3,  2,  4,\n",
       "        3,  0,  2,  1,  5,  4,  4,  4,  1,  3,  4,  0,  3,  1,  5,  6,  2,\n",
       "        3,  1,  6,  2,  1,  1,  3,  0,  3,  6,  7,  2,  5,  3],\n",
       "      dtype=int64)"
      ]
     },
     "execution_count": 26,
     "metadata": {},
     "output_type": "execute_result"
    }
   ],
   "source": [
    "x"
   ]
  },
  {
   "cell_type": "code",
   "execution_count": 28,
   "id": "6ac41847-9e4f-4647-b728-b2c83c5e3f1e",
   "metadata": {},
   "outputs": [
    {
     "data": {
      "text/plain": [
       "(array([0.049, 0.134, 0.241, 0.224, 0.158, 0.098, 0.055, 0.028, 0.008,\n",
       "        0.005]),\n",
       " array([ 0.,  1.,  2.,  3.,  4.,  5.,  6.,  7.,  8.,  9., 10.]),\n",
       " <BarContainer object of 10 artists>)"
      ]
     },
     "execution_count": 28,
     "metadata": {},
     "output_type": "execute_result"
    },
    {
     "data": {
      "image/png": "[encoded data removed]",
      "text/plain": [
       "<Figure size 640x480 with 1 Axes>"
      ]
     },
     "metadata": {},
     "output_type": "display_data"
    }
   ],
   "source": [
    "plt.hist(x, density = True, edgecolor = \"black\")"
   ]
  },
  {
   "cell_type": "code",
   "execution_count": 29,
   "id": "89ff0a9b-e6ec-4b70-875d-e6d705b57a4f",
   "metadata": {},
   "outputs": [],
   "source": [
    "from scipy.stats import expon\n",
    "import seaborn as sns "
   ]
  },
  {
   "cell_type": "code",
   "execution_count": 31,
   "id": "9ac09023-54da-4fb5-a52e-5d30f41cd9e4",
   "metadata": {},
   "outputs": [],
   "source": [
    "x = expon.rvs(scale = 10, size = 10000)"
   ]
  },
  {
   "cell_type": "code",
   "execution_count": 34,
   "id": "6f60f490-80d1-4d21-b27f-41bad644debe",
   "metadata": {},
   "outputs": [
    {
     "name": "stderr",
     "output_type": "stream",
     "text": [
      "C:\\Users\\lakshay\\AppData\\Local\\Temp\\ipykernel_11220\\3746914587.py:1: UserWarning: \n",
      "\n",
      "`distplot` is a deprecated function and will be removed in seaborn v0.14.0.\n",
      "\n",
      "Please adapt your code to use either `displot` (a figure-level function with\n",
      "similar flexibility) or `histplot` (an axes-level function for histograms).\n",
      "\n",
      "For a guide to updating your code to use the new functions, please see\n",
      "https://gist.github.com/mwaskom/de44147ed2974457ad6372750bbe5751\n",
      "\n",
      "  sns.distplot(x)\n",
      "D:\\Anaconda\\Lib\\site-packages\\seaborn\\_oldcore.py:1119: FutureWarning: use_inf_as_na option is deprecated and will be removed in a future version. Convert inf values to NaN before operating instead.\n",
      "  with pd.option_context('mode.use_inf_as_na', True):\n"
     ]
    },
    {
     "data": {
      "text/plain": [
       "<Axes: ylabel='Density'>"
      ]
     },
     "execution_count": 34,
     "metadata": {},
     "output_type": "execute_result"
    },
    {
     "data": {
      "image/png": "[encoded data removed]",
      "text/plain": [
       "<Figure size 640x480 with 1 Axes>"
      ]
     },
     "metadata": {},
     "output_type": "display_data"
    }
   ],
   "source": [
    "sns.distplot(x)"
   ]
  },
  {
   "cell_type": "code",
   "execution_count": 35,
   "id": "eb1b0311-2a93-4ca6-927f-876ac722c0f6",
   "metadata": {},
   "outputs": [],
   "source": [
    "from scipy import stats\n",
    "import numpy as np\n",
    "from matplotlib import pyplot as plt"
   ]
  },
  {
   "cell_type": "code",
   "execution_count": 36,
   "id": "5188c2a2-833a-4b80-8356-af17b39048cd",
   "metadata": {},
   "outputs": [
    {
     "data": {
      "text/plain": [
       "array([-5.     , -4.99999, -4.99998, ...,  4.99997,  4.99998,  4.99999])"
      ]
     },
     "execution_count": 36,
     "metadata": {},
     "output_type": "execute_result"
    }
   ],
   "source": [
    "x_data = np.arange(-5,5,0.00001)\n",
    "x_data"
   ]
  },
  {
   "cell_type": "code",
   "execution_count": 38,
   "id": "5fccc22a-f571-4ce1-99dd-7c738c2a07d4",
   "metadata": {},
   "outputs": [],
   "source": [
    "y_data = stats.norm.pdf(x_data,0,1)"
   ]
  },
  {
   "cell_type": "code",
   "execution_count": 39,
   "id": "dad6fba7-9fd7-4f64-9134-b119ec001fc2",
   "metadata": {},
   "outputs": [
    {
     "data": {
      "text/plain": [
       "[<matplotlib.lines.Line2D at 0x1f00e0f0950>]"
      ]
     },
     "execution_count": 39,
     "metadata": {},
     "output_type": "execute_result"
    },
    {
     "data": {
      "image/png": "[encoded data removed]",
      "text/plain": [
       "<Figure size 640x480 with 1 Axes>"
      ]
     },
     "metadata": {},
     "output_type": "display_data"
    }
   ],
   "source": [
    "plt.plot(x_data,y_data)"
   ]
  },
  {
   "cell_type": "code",
   "execution_count": 40,
   "id": "7daa7d6a-5670-4e57-8080-b6c4bc15ec86",
   "metadata": {},
   "outputs": [
    {
     "data": {
      "text/plain": [
       "[<matplotlib.lines.Line2D at 0x1f00e8ec750>]"
      ]
     },
     "execution_count": 40,
     "metadata": {},
     "output_type": "execute_result"
    },
    {
     "data": {
      "image/png": "[encoded data removed]",
      "text/plain": [
       "<Figure size 640x480 with 1 Axes>"
      ]
     },
     "metadata": {},
     "output_type": "display_data"
    }
   ],
   "source": [
    "z_data = stats.norm.pdf(x_data,0,2)\n",
    "plt.plot(x_data,z_data)"
   ]
  },
  {
   "cell_type": "code",
   "execution_count": 41,
   "id": "489d354d-3113-40c0-8142-7694b937c846",
   "metadata": {},
   "outputs": [
    {
     "data": {
      "text/plain": [
       "[<matplotlib.lines.Line2D at 0x1f00e942250>]"
      ]
     },
     "execution_count": 41,
     "metadata": {},
     "output_type": "execute_result"
    },
    {
     "data": {
      "image/png": "[encoded data removed]",
      "text/plain": [
       "<Figure size 640x480 with 1 Axes>"
      ]
     },
     "metadata": {},
     "output_type": "display_data"
    }
   ],
   "source": [
    "w_data = stats.norm.pdf(x_data,2,1)\n",
    "plt.plot(x_data,w_data)"
   ]
  },
  {
   "cell_type": "code",
   "execution_count": null,
   "id": "38640948-5f6d-41bb-b058-de9f5c56b5c3",
   "metadata": {},
   "outputs": [],
   "source": []
  }
 ],
 "metadata": {
  "kernelspec": {
   "display_name": "Python 3 (ipykernel)",
   "language": "python",
   "name": "python3"
  },
  "language_info": {
   "codemirror_mode": {
    "name": "ipython",
    "version": 3
   },
   "file_extension": ".py",
   "mimetype": "text/x-python",
   "name": "python",
   "nbconvert_exporter": "python",
   "pygments_lexer": "ipython3",
   "version": "3.11.7"
  }
 },
 "nbformat": 4,
 "nbformat_minor": 5
}
