{
 "cells": [
  {
   "cell_type": "code",
   "execution_count": 9,
   "id": "2a448006-1af7-4ad7-ae51-1e85351d1088",
   "metadata": {},
   "outputs": [
    {
     "name": "stdout",
     "output_type": "stream",
     "text": [
      "hello everyoneLorem ipsum dolor sit amet, consectetur adipiscing elit. Proin vehicula dignissim libero bibendum dapibus. Vivamus sodales ex lacus, ut laoreet ante placerat sagittis. Quisque sit amet massa eget ipsum aliquam egestas. Cras eget nisi sed nibh tristique varius non nec magna. Donec convallis ligula tincidunt viverra porttitor. Pellentesque habitant morbi tristique senectus et netus et malesuada fames ac turpis egestas. Pellentesque finibus, tortor vitae tempus sagittis, ligula neque pellentesque urna, nec convallis nisl nulla in lorem. Morbi id nisi nec dolor pulvinar pulvinar ut ut tellus. Mauris eu sodales ante. Duis semper ac sem vel bibendum. Vestibulum vulputate, nulla ut tristique imperdiet, lorem erat feugiat eros, vel cursus tortor augue vitae mi. Quisque neque sapien, ultrices dictum lacus ac, finibus aliquam metus. Quisque lectus erat, consequat in ligula sit amet, mattis ullamcorper sapien. Sed et odio nulla. Sed blandit est ante, vulputate aliquet sem sollicitudin ac.\n",
      "\n",
      "Pellentesque maximus interdum augue, quis laoreet augue malesuada at. Cras vel dui ullamcorper, bibendum nisl sit amet, tincidunt elit. Vivamus a fermentum tellus, et fermentum nibh. Integer hendrerit risus eu felis pretium, nec accumsan eros imperdiet. Nunc ut risus ante. Pellentesque habitant morbi tristique senectus et netus et malesuada fames ac turpis egestas. Nam ullamcorper purus velit, sit amet porta massa consectetur sit amet. Phasellus efficitur arcu ut faucibus vulputate. Sed ut urna porttitor, venenatis tellus sed, aliquet dolor. Etiam sed dictum metus.\n",
      "\n",
      "Phasellus id viverra eros, ut facilisis eros. Lorem ipsum dolor sit amet, consectetur adipiscing elit. Vestibulum lorem ligula, efficitur id nisl vitae, interdum fermentum turpis. Vivamus sollicitudin porttitor ante, quis egestas sem vestibulum sit amet. Donec pretium sed lacus at sodales. Phasellus elit nulla, gravida pharetra urna sit amet, pretium vestibulum justo. In sit amet augue convallis, aliquam quam ut, blandit tortor. Fusce dictum rhoncus efficitur.\n",
      "\n",
      "In at lorem rhoncus, pellentesque neque non, fringilla nibh. Orci varius natoque penatibus et magnis dis parturient montes, nascetur ridiculus mus. Praesent gravida massa commodo neque commodo facilisis. Nulla tincidunt mi eleifend, pulvinar dolor id, porta sapien. Ut rhoncus interdum lacus, in maximus mi viverra a. Pellentesque at justo purus. Aliquam sodales elit tortor, eget tincidunt lorem imperdiet in. Cras massa eros, maximus a varius volutpat, tempor quis orci. Proin sed nisi eu leo mattis feugiat consectetur eget libero. Pellentesque habitant morbi tristique senectus et netus et malesuada fames ac turpis egestas. Integer congue laoreet magna, in semper nisl molestie id. Nam sed mi efficitur, luctus purus sit amet, ultricies sapien. Cras rhoncus, leo et maximus sagittis, eros purus porta turpis, vel molestie sem ipsum et risus. Fusce facilisis lectus augue, vel vehicula nisi malesuada quis. Mauris sit amet tortor condimentum, dictum orci viverra, tempor diam. Curabitur at ligula ac ipsum tincidunt convallis in iaculis velit.\n",
      "\n",
      "Quisque elit libero, viverra ac malesuada non, volutpat nec nulla. Phasellus a suscipit lorem, non dictum nulla. Nullam nulla erat, dapibus vel sodales a, congue at velit. Aenean at suscipit nunc, vitae lacinia orci. In viverra, nunc a lobortis pulvinar, tortor sem aliquet neque, a scelerisque erat nisl sed dui. Nullam dictum laoreet enim eget rhoncus. Donec congue dapibus dui, hendrerit dignissim purus molestie sollicitudin. Aliquam sed condimentum velit. Mauris vel lacus pretium arcu lacinia scelerisque\n"
     ]
    }
   ],
   "source": [
    "fd = open('unti.txt','r')\n",
    "txt = fd.read()\n",
    "print(txt)\n",
    "fd.close()"
   ]
  },
  {
   "cell_type": "code",
   "execution_count": 11,
   "id": "f1f1aa26-b6b4-4351-896d-c49ff8efb9bd",
   "metadata": {},
   "outputs": [
    {
     "data": {
      "text/plain": [
       "'hello everyoneLorem ipsum dolor sit amet, consectetur adipiscing elit. Proin vehicula dignissim libero bibendum dapibus. Vivamus sodales ex lacus, ut laoreet ante placerat sagittis. Quisque sit amet massa eget ipsum aliquam egestas. Cras eget nisi sed nibh tristique varius non nec magna. Donec convallis ligula tincidunt viverra porttitor. Pellentesque habitant morbi tristique senectus et netus et malesuada fames ac turpis egestas. Pellentesque finibus, tortor vitae tempus sagittis, ligula neque pellentesque urna, nec convallis nisl nulla in lorem. Morbi id nisi nec dolor pulvinar pulvinar ut ut tellus. Mauris eu sodales ante. Duis semper ac sem vel bibendum. Vestibulum vulputate, nulla ut tristique imperdiet, lorem erat feugiat eros, vel cursus tortor augue vitae mi. Quisque neque sapien, ultrices dictum lacus ac, finibus aliquam metus. Quisque lectus erat, consequat in ligula sit amet, mattis ullamcorper sapien. Sed et odio nulla. Sed blandit est ante, vulputate aliquet sem sollicitudin ac.\\n\\nPellentesque maximus interdum augue, quis laoreet augue malesuada at. Cras vel dui ullamcorper, bibendum nisl sit amet, tincidunt elit. Vivamus a fermentum tellus, et fermentum nibh. Integer hendrerit risus eu felis pretium, nec accumsan eros imperdiet. Nunc ut risus ante. Pellentesque habitant morbi tristique senectus et netus et malesuada fames ac turpis egestas. Nam ullamcorper purus velit, sit amet porta massa consectetur sit amet. Phasellus efficitur arcu ut faucibus vulputate. Sed ut urna porttitor, venenatis tellus sed, aliquet dolor. Etiam sed dictum metus.\\n\\nPhasellus id viverra eros, ut facilisis eros. Lorem ipsum dolor sit amet, consectetur adipiscing elit. Vestibulum lorem ligula, efficitur id nisl vitae, interdum fermentum turpis. Vivamus sollicitudin porttitor ante, quis egestas sem vestibulum sit amet. Donec pretium sed lacus at sodales. Phasellus elit nulla, gravida pharetra urna sit amet, pretium vestibulum justo. In sit amet augue convallis, aliquam quam ut, blandit tortor. Fusce dictum rhoncus efficitur.\\n\\nIn at lorem rhoncus, pellentesque neque non, fringilla nibh. Orci varius natoque penatibus et magnis dis parturient montes, nascetur ridiculus mus. Praesent gravida massa commodo neque commodo facilisis. Nulla tincidunt mi eleifend, pulvinar dolor id, porta sapien. Ut rhoncus interdum lacus, in maximus mi viverra a. Pellentesque at justo purus. Aliquam sodales elit tortor, eget tincidunt lorem imperdiet in. Cras massa eros, maximus a varius volutpat, tempor quis orci. Proin sed nisi eu leo mattis feugiat consectetur eget libero. Pellentesque habitant morbi tristique senectus et netus et malesuada fames ac turpis egestas. Integer congue laoreet magna, in semper nisl molestie id. Nam sed mi efficitur, luctus purus sit amet, ultricies sapien. Cras rhoncus, leo et maximus sagittis, eros purus porta turpis, vel molestie sem ipsum et risus. Fusce facilisis lectus augue, vel vehicula nisi malesuada quis. Mauris sit amet tortor condimentum, dictum orci viverra, tempor diam. Curabitur at ligula ac ipsum tincidunt convallis in iaculis velit.\\n\\nQuisque elit libero, viverra ac malesuada non, volutpat nec nulla. Phasellus a suscipit lorem, non dictum nulla. Nullam nulla erat, dapibus vel sodales a, congue at velit. Aenean at suscipit nunc, vitae lacinia orci. In viverra, nunc a lobortis pulvinar, tortor sem aliquet neque, a scelerisque erat nisl sed dui. Nullam dictum laoreet enim eget rhoncus. Donec congue dapibus dui, hendrerit dignissim purus molestie sollicitudin. Aliquam sed condimentum velit. Mauris vel lacus pretium arcu lacinia scelerisque'"
      ]
     },
     "execution_count": 11,
     "metadata": {},
     "output_type": "execute_result"
    }
   ],
   "source": [
    "txt"
   ]
  },
  {
   "cell_type": "code",
   "execution_count": 13,
   "id": "e72b11e3-c9d5-492f-8b06-dac27e29786a",
   "metadata": {},
   "outputs": [],
   "source": [
    "per = txt.split(\"\\n\\n\")"
   ]
  },
  {
   "cell_type": "code",
   "execution_count": 14,
   "id": "cf30a8bf-8665-42c1-8d01-76888ce0e9f2",
   "metadata": {},
   "outputs": [
    {
     "data": {
      "text/plain": [
       "5"
      ]
     },
     "execution_count": 14,
     "metadata": {},
     "output_type": "execute_result"
    }
   ],
   "source": [
    "len(per)"
   ]
  },
  {
   "cell_type": "code",
   "execution_count": 15,
   "id": "743b6305-a0de-4cc6-8638-66d5928d2f5d",
   "metadata": {},
   "outputs": [],
   "source": [
    "line = txt.split(\".\")"
   ]
  },
  {
   "cell_type": "code",
   "execution_count": 16,
   "id": "af444519-4385-4ef2-9f9d-d9fcc82de993",
   "metadata": {},
   "outputs": [
    {
     "data": {
      "text/plain": [
       "59"
      ]
     },
     "execution_count": 16,
     "metadata": {},
     "output_type": "execute_result"
    }
   ],
   "source": [
    "len(line)"
   ]
  },
  {
   "cell_type": "code",
   "execution_count": 17,
   "id": "79e28063-b94e-46ae-9850-be82679d6b6b",
   "metadata": {},
   "outputs": [],
   "source": [
    "words = txt.split(\" \")"
   ]
  },
  {
   "cell_type": "code",
   "execution_count": 18,
   "id": "5adb710e-5cf8-494a-a5ea-85297bdeed66",
   "metadata": {},
   "outputs": [
    {
     "data": {
      "text/plain": [
       "524"
      ]
     },
     "execution_count": 18,
     "metadata": {},
     "output_type": "execute_result"
    }
   ],
   "source": [
    "len(words)"
   ]
  },
  {
   "cell_type": "code",
   "execution_count": 22,
   "id": "8cd1a38a-1db5-4877-a027-9413d68b31f5",
   "metadata": {},
   "outputs": [],
   "source": [
    "fd = open(\"data.txt\",'a')\n",
    "fd.write(\" but I can use it\")\n",
    "fd.close()"
   ]
  },
  {
   "cell_type": "code",
   "execution_count": null,
   "id": "68586795-1bf0-407c-9b5b-4c15fcd9cc3f",
   "metadata": {},
   "outputs": [],
   "source": []
  }
 ],
 "metadata": {
  "kernelspec": {
   "display_name": "Python 3 (ipykernel)",
   "language": "python",
   "name": "python3"
  },
  "language_info": {
   "codemirror_mode": {
    "name": "ipython",
    "version": 3
   },
   "file_extension": ".py",
   "mimetype": "text/x-python",
   "name": "python",
   "nbconvert_exporter": "python",
   "pygments_lexer": "ipython3",
   "version": "3.11.7"
  }
 },
 "nbformat": 4,
 "nbformat_minor": 5
}
