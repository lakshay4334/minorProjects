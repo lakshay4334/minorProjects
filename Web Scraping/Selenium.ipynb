{
 "cells": [
  {
   "cell_type": "code",
   "execution_count": 1,
   "id": "77c4d398-7ec2-4f59-87f4-ee192ac94b59",
   "metadata": {},
   "outputs": [],
   "source": [
    "from bs4 import BeautifulSoup\n",
    "import requests"
   ]
  },
  {
   "cell_type": "code",
   "execution_count": 2,
   "id": "9db2c191-dfae-4c7e-a7e4-3fd0984b25eb",
   "metadata": {},
   "outputs": [],
   "source": [
    "res = requests.get(\"https://www.youtube.com/@GeeksforGeeksVideos/videos\")"
   ]
  },
  {
   "cell_type": "code",
   "execution_count": 4,
   "id": "55e533fd-1063-4724-b009-08ea2363097c",
   "metadata": {},
   "outputs": [
    {
     "data": {
      "text/plain": [
       "'AboutPressCopyrightContact usCreatorsAdvertiseDevelopersTermsPrivacyPolicy & SafetyHow YouTube worksTest new features© 2024 Google LLCGeeksforGeeks - YouTube'"
      ]
     },
     "execution_count": 4,
     "metadata": {},
     "output_type": "execute_result"
    }
   ],
   "source": [
    "soup  = BeautifulSoup(res.text,\"html.parser\")\n",
    "soup.text"
   ]
  },
  {
   "cell_type": "code",
   "execution_count": 5,
   "id": "e82e13a1-1d3a-45dc-a034-e1665ce4febf",
   "metadata": {},
   "outputs": [
    {
     "name": "stdout",
     "output_type": "stream",
     "text": [
      "Collecting selenium\n",
      "  Downloading selenium-4.21.0-py3-none-any.whl.metadata (6.9 kB)\n",
      "Requirement already satisfied: urllib3<3,>=1.26 in d:\\anaconda\\lib\\site-packages (from urllib3[socks]<3,>=1.26->selenium) (2.0.7)\n",
      "Collecting trio~=0.17 (from selenium)\n",
      "  Downloading trio-0.25.1-py3-none-any.whl.metadata (8.7 kB)\n",
      "Collecting trio-websocket~=0.9 (from selenium)\n",
      "  Downloading trio_websocket-0.11.1-py3-none-any.whl.metadata (4.7 kB)\n",
      "Requirement already satisfied: certifi>=2021.10.8 in d:\\anaconda\\lib\\site-packages (from selenium) (2024.2.2)\n",
      "Requirement already satisfied: typing_extensions>=4.9.0 in d:\\anaconda\\lib\\site-packages (from selenium) (4.9.0)\n",
      "Collecting attrs>=23.2.0 (from trio~=0.17->selenium)\n",
      "  Using cached attrs-23.2.0-py3-none-any.whl.metadata (9.5 kB)\n",
      "Requirement already satisfied: sortedcontainers in d:\\anaconda\\lib\\site-packages (from trio~=0.17->selenium) (2.4.0)\n",
      "Requirement already satisfied: idna in d:\\anaconda\\lib\\site-packages (from trio~=0.17->selenium) (3.4)\n",
      "Collecting outcome (from trio~=0.17->selenium)\n",
      "  Downloading outcome-1.3.0.post0-py2.py3-none-any.whl.metadata (2.6 kB)\n",
      "Requirement already satisfied: sniffio>=1.3.0 in d:\\anaconda\\lib\\site-packages (from trio~=0.17->selenium) (1.3.0)\n",
      "Requirement already satisfied: cffi>=1.14 in d:\\anaconda\\lib\\site-packages (from trio~=0.17->selenium) (1.16.0)\n",
      "Collecting wsproto>=0.14 (from trio-websocket~=0.9->selenium)\n",
      "  Downloading wsproto-1.2.0-py3-none-any.whl.metadata (5.6 kB)\n",
      "Requirement already satisfied: pysocks!=1.5.7,<2.0,>=1.5.6 in d:\\anaconda\\lib\\site-packages (from urllib3[socks]<3,>=1.26->selenium) (1.7.1)\n",
      "Requirement already satisfied: pycparser in d:\\anaconda\\lib\\site-packages (from cffi>=1.14->trio~=0.17->selenium) (2.21)\n",
      "Collecting h11<1,>=0.9.0 (from wsproto>=0.14->trio-websocket~=0.9->selenium)\n",
      "  Downloading h11-0.14.0-py3-none-any.whl.metadata (8.2 kB)\n",
      "Downloading selenium-4.21.0-py3-none-any.whl (9.5 MB)\n",
      "   ---------------------------------------- 0.0/9.5 MB ? eta -:--:--\n",
      "   - -------------------------------------- 0.3/9.5 MB 10.2 MB/s eta 0:00:01\n",
      "   -- ------------------------------------- 0.7/9.5 MB 8.9 MB/s eta 0:00:01\n",
      "   --- ------------------------------------ 0.9/9.5 MB 6.8 MB/s eta 0:00:02\n",
      "   ---- ----------------------------------- 1.0/9.5 MB 6.0 MB/s eta 0:00:02\n",
      "   ---- ----------------------------------- 1.2/9.5 MB 5.4 MB/s eta 0:00:02\n",
      "   ----- ---------------------------------- 1.4/9.5 MB 5.1 MB/s eta 0:00:02\n",
      "   ------ --------------------------------- 1.5/9.5 MB 4.8 MB/s eta 0:00:02\n",
      "   ------ --------------------------------- 1.6/9.5 MB 4.6 MB/s eta 0:00:02\n",
      "   ------- -------------------------------- 1.8/9.5 MB 4.5 MB/s eta 0:00:02\n",
      "   -------- ------------------------------- 2.0/9.5 MB 4.4 MB/s eta 0:00:02\n",
      "   --------- ------------------------------ 2.2/9.5 MB 4.3 MB/s eta 0:00:02\n",
      "   --------- ------------------------------ 2.3/9.5 MB 4.2 MB/s eta 0:00:02\n",
      "   ---------- ----------------------------- 2.5/9.5 MB 4.2 MB/s eta 0:00:02\n",
      "   ----------- ---------------------------- 2.6/9.5 MB 4.2 MB/s eta 0:00:02\n",
      "   ----------- ---------------------------- 2.8/9.5 MB 4.1 MB/s eta 0:00:02\n",
      "   ------------ --------------------------- 3.0/9.5 MB 4.1 MB/s eta 0:00:02\n",
      "   ------------- -------------------------- 3.1/9.5 MB 4.1 MB/s eta 0:00:02\n",
      "   ------------- -------------------------- 3.3/9.5 MB 4.0 MB/s eta 0:00:02\n",
      "   -------------- ------------------------- 3.5/9.5 MB 4.0 MB/s eta 0:00:02\n",
      "   --------------- ------------------------ 3.6/9.5 MB 4.0 MB/s eta 0:00:02\n",
      "   --------------- ------------------------ 3.8/9.5 MB 3.9 MB/s eta 0:00:02\n",
      "   ---------------- ----------------------- 3.8/9.5 MB 3.8 MB/s eta 0:00:02\n",
      "   ---------------- ----------------------- 3.8/9.5 MB 3.8 MB/s eta 0:00:02\n",
      "   ---------------- ----------------------- 3.8/9.5 MB 3.8 MB/s eta 0:00:02\n",
      "   ------------------ --------------------- 4.3/9.5 MB 3.8 MB/s eta 0:00:02\n",
      "   ------------------ --------------------- 4.4/9.5 MB 3.7 MB/s eta 0:00:02\n",
      "   ------------------- -------------------- 4.5/9.5 MB 3.7 MB/s eta 0:00:02\n",
      "   ------------------- -------------------- 4.6/9.5 MB 3.6 MB/s eta 0:00:02\n",
      "   ------------------- -------------------- 4.7/9.5 MB 3.6 MB/s eta 0:00:02\n",
      "   -------------------- ------------------- 4.8/9.5 MB 3.5 MB/s eta 0:00:02\n",
      "   -------------------- ------------------- 4.9/9.5 MB 3.4 MB/s eta 0:00:02\n",
      "   --------------------- ------------------ 5.0/9.5 MB 3.5 MB/s eta 0:00:02\n",
      "   --------------------- ------------------ 5.1/9.5 MB 3.4 MB/s eta 0:00:02\n",
      "   ---------------------- ----------------- 5.2/9.5 MB 3.4 MB/s eta 0:00:02\n",
      "   ---------------------- ----------------- 5.4/9.5 MB 3.4 MB/s eta 0:00:02\n",
      "   ----------------------- ---------------- 5.5/9.5 MB 3.3 MB/s eta 0:00:02\n",
      "   ----------------------- ---------------- 5.6/9.5 MB 3.3 MB/s eta 0:00:02\n",
      "   ------------------------ --------------- 5.7/9.5 MB 3.3 MB/s eta 0:00:02\n",
      "   ------------------------ --------------- 5.8/9.5 MB 3.2 MB/s eta 0:00:02\n",
      "   ------------------------- -------------- 5.9/9.5 MB 3.2 MB/s eta 0:00:02\n",
      "   ------------------------- -------------- 6.1/9.5 MB 3.2 MB/s eta 0:00:02\n",
      "   -------------------------- ------------- 6.2/9.5 MB 3.2 MB/s eta 0:00:02\n",
      "   -------------------------- ------------- 6.3/9.5 MB 3.2 MB/s eta 0:00:01\n",
      "   --------------------------- ------------ 6.4/9.5 MB 3.2 MB/s eta 0:00:01\n",
      "   --------------------------- ------------ 6.6/9.5 MB 3.2 MB/s eta 0:00:01\n",
      "   ---------------------------- ----------- 6.7/9.5 MB 3.2 MB/s eta 0:00:01\n",
      "   ---------------------------- ----------- 6.8/9.5 MB 3.2 MB/s eta 0:00:01\n",
      "   ----------------------------- ---------- 7.0/9.5 MB 3.2 MB/s eta 0:00:01\n",
      "   ------------------------------ --------- 7.1/9.5 MB 3.2 MB/s eta 0:00:01\n",
      "   ------------------------------ --------- 7.3/9.5 MB 3.2 MB/s eta 0:00:01\n",
      "   ------------------------------- -------- 7.4/9.5 MB 3.2 MB/s eta 0:00:01\n",
      "   -------------------------------- ------- 7.6/9.5 MB 3.2 MB/s eta 0:00:01\n",
      "   -------------------------------- ------- 7.7/9.5 MB 3.2 MB/s eta 0:00:01\n",
      "   --------------------------------- ------ 7.9/9.5 MB 3.2 MB/s eta 0:00:01\n",
      "   ---------------------------------- ----- 8.1/9.5 MB 3.2 MB/s eta 0:00:01\n",
      "   ---------------------------------- ----- 8.2/9.5 MB 3.2 MB/s eta 0:00:01\n",
      "   ----------------------------------- ---- 8.4/9.5 MB 3.2 MB/s eta 0:00:01\n",
      "   ------------------------------------ --- 8.6/9.5 MB 3.2 MB/s eta 0:00:01\n",
      "   ------------------------------------- -- 8.8/9.5 MB 3.3 MB/s eta 0:00:01\n",
      "   ------------------------------------- -- 8.9/9.5 MB 3.3 MB/s eta 0:00:01\n",
      "   -------------------------------------- - 9.1/9.5 MB 3.3 MB/s eta 0:00:01\n",
      "   ---------------------------------------  9.3/9.5 MB 3.3 MB/s eta 0:00:01\n",
      "   ---------------------------------------  9.4/9.5 MB 3.3 MB/s eta 0:00:01\n",
      "   ---------------------------------------- 9.5/9.5 MB 3.3 MB/s eta 0:00:00\n",
      "Downloading trio-0.25.1-py3-none-any.whl (467 kB)\n",
      "   ---------------------------------------- 0.0/467.7 kB ? eta -:--:--\n",
      "   ------------------------ --------------- 286.7/467.7 kB 8.9 MB/s eta 0:00:01\n",
      "   ---------------------------------------  460.8/467.7 kB 5.8 MB/s eta 0:00:01\n",
      "   ---------------------------------------- 467.7/467.7 kB 5.9 MB/s eta 0:00:00\n",
      "Downloading trio_websocket-0.11.1-py3-none-any.whl (17 kB)\n",
      "Using cached attrs-23.2.0-py3-none-any.whl (60 kB)\n",
      "Downloading wsproto-1.2.0-py3-none-any.whl (24 kB)\n",
      "Downloading outcome-1.3.0.post0-py2.py3-none-any.whl (10 kB)\n",
      "Downloading h11-0.14.0-py3-none-any.whl (58 kB)\n",
      "   ---------------------------------------- 0.0/58.3 kB ? eta -:--:--\n",
      "   ---------------------------------------- 58.3/58.3 kB 3.2 MB/s eta 0:00:00\n",
      "Installing collected packages: h11, attrs, wsproto, outcome, trio, trio-websocket, selenium\n",
      "  Attempting uninstall: attrs\n",
      "    Found existing installation: attrs 23.1.0\n",
      "    Uninstalling attrs-23.1.0:\n",
      "      Successfully uninstalled attrs-23.1.0\n",
      "Successfully installed attrs-23.2.0 h11-0.14.0 outcome-1.3.0.post0 selenium-4.21.0 trio-0.25.1 trio-websocket-0.11.1 wsproto-1.2.0\n"
     ]
    }
   ],
   "source": [
    "!pip install selenium"
   ]
  },
  {
   "cell_type": "code",
   "execution_count": 6,
   "id": "c4f7796f-0102-4cfb-9849-80497b9195f2",
   "metadata": {},
   "outputs": [],
   "source": [
    "from selenium import webdriver"
   ]
  },
  {
   "cell_type": "code",
   "execution_count": 8,
   "id": "fb15b536-36d1-486d-adac-b229f46e14fa",
   "metadata": {},
   "outputs": [
    {
     "name": "stdout",
     "output_type": "stream",
     "text": [
      "Collecting chromedriver_binary\n",
      "  Downloading chromedriver_binary-128.0.6534.0.0.tar.gz (5.6 kB)\n",
      "  Preparing metadata (setup.py): started\n",
      "  Preparing metadata (setup.py): finished with status 'done'\n",
      "Building wheels for collected packages: chromedriver_binary\n",
      "  Building wheel for chromedriver_binary (setup.py): started\n",
      "  Building wheel for chromedriver_binary (setup.py): finished with status 'done'\n",
      "  Created wheel for chromedriver_binary: filename=chromedriver_binary-128.0.6534.0.0-py3-none-any.whl size=8676910 sha256=b74dcc0d17e5ada525dfec3ac661fe0153592433820fdd62b8b35425ff1f9d58\n",
      "  Stored in directory: c:\\users\\lakshay\\appdata\\local\\pip\\cache\\wheels\\5c\\91\\09\\9b4413e219627e4ad42ff905072a787b2dc25d8d3248e983b1\n",
      "Successfully built chromedriver_binary\n",
      "Installing collected packages: chromedriver_binary\n",
      "Successfully installed chromedriver_binary-128.0.6534.0.0\n"
     ]
    }
   ],
   "source": [
    "!pip install chromedriver_binary\n"
   ]
  },
  {
   "cell_type": "code",
   "execution_count": 10,
   "id": "1ed9e306-9032-479b-9570-f7d117a70b40",
   "metadata": {},
   "outputs": [],
   "source": [
    "driver = webdriver.Chrome()"
   ]
  },
  {
   "cell_type": "code",
   "execution_count": 11,
   "id": "84e75f17-98d0-46a6-b158-d288ef296328",
   "metadata": {},
   "outputs": [],
   "source": [
    "import chromedriver_binary"
   ]
  },
  {
   "cell_type": "code",
   "execution_count": null,
   "id": "d93590b8-9012-43dc-9acf-786848a85291",
   "metadata": {},
   "outputs": [],
   "source": [
    "requests.ge"
   ]
  }
 ],
 "metadata": {
  "kernelspec": {
   "display_name": "Python 3 (ipykernel)",
   "language": "python",
   "name": "python3"
  },
  "language_info": {
   "codemirror_mode": {
    "name": "ipython",
    "version": 3
   },
   "file_extension": ".py",
   "mimetype": "text/x-python",
   "name": "python",
   "nbconvert_exporter": "python",
   "pygments_lexer": "ipython3",
   "version": "3.11.7"
  }
 },
 "nbformat": 4,
 "nbformat_minor": 5
}
