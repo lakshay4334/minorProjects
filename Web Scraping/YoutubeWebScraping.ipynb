{
 "cells": [
  {
   "cell_type": "code",
   "execution_count": 71,
   "id": "37a9f31e-a483-40b8-ab90-0d4dab7a0e61",
   "metadata": {},
   "outputs": [],
   "source": [
    "from selenium import webdriver\n",
    "from bs4 import BeautifulSoup\n",
    "from tqdm import tqdm\n",
    "import pandas as pd"
   ]
  },
  {
   "cell_type": "code",
   "execution_count": 4,
   "id": "665777cf-725a-4e8e-8dfb-9c11679a7b9e",
   "metadata": {},
   "outputs": [],
   "source": [
    "driver = webdriver.Chrome()\n",
    "driver.get(\"https://www.youtube.com/@GeeksforGeeksVideos/videos\")"
   ]
  },
  {
   "cell_type": "code",
   "execution_count": 74,
   "id": "910b1084-3bd4-437b-9662-2301a93f79d5",
   "metadata": {},
   "outputs": [],
   "source": [
    "soup = BeautifulSoup(driver.page_source,\"html.parser\")\n"
   ]
  },
  {
   "cell_type": "code",
   "execution_count": 75,
   "id": "09922949-c3c4-4d7a-bc35-4968aae7a8b9",
   "metadata": {},
   "outputs": [],
   "source": [
    "lst = []\n",
    "for sp in soup.find_all(\"ytd-rich-item-renderer\"):\n",
    "    title = sp.find(\"a\", class_ = \"yt-simple-endpoint focus-on-expand style-scope ytd-rich-grid-media\").text\n",
    "    video_link = \"https://www.youtube.com/\"+sp.find(\"a\", class_ = \"yt-simple-endpoint focus-on-expand style-scope ytd-rich-grid-media\").get(\"href\")\n",
    "    try:\n",
    "        video_views = sp.find(\"span\", class_ = \"inline-metadata-item style-scope ytd-video-meta-block\").text\n",
    "    except:\n",
    "        video_views = 0\n",
    "    try:\n",
    "        Upload_time = sp.find_all(\"span\", class_ = \"inline-metadata-item style-scope ytd-video-meta-block\")[1].text\n",
    "    except:\n",
    "        Upload_time = 0\n",
    "    thumbnail_link = sp.find(\"img\").get(\"src\")\n",
    "    lst.append([title,video_link,video_views,Upload_time,thumbnail_link])"
   ]
  },
  {
   "cell_type": "code",
   "execution_count": 76,
   "id": "c41d4d6c-93e8-4c2c-be9f-eac8d4d44403",
   "metadata": {},
   "outputs": [],
   "source": [
    "df = pd.DataFrame(lst,columns = [\"title\",\"video link\", \"video views\", \"Upload time\", \"thumbnail link\"])"
   ]
  },
  {
   "cell_type": "code",
   "execution_count": 77,
   "id": "af7a9306-eb23-4cb4-92f9-da25ce56d8ba",
   "metadata": {},
   "outputs": [
    {
     "data": {
      "text/html": [
       "<div>\n",
       "<style scoped>\n",
       "    .dataframe tbody tr th:only-of-type {\n",
       "        vertical-align: middle;\n",
       "    }\n",
       "\n",
       "    .dataframe tbody tr th {\n",
       "        vertical-align: top;\n",
       "    }\n",
       "\n",
       "    .dataframe thead th {\n",
       "        text-align: right;\n",
       "    }\n",
       "</style>\n",
       "<table border=\"1\" class=\"dataframe\">\n",
       "  <thead>\n",
       "    <tr style=\"text-align: right;\">\n",
       "      <th></th>\n",
       "      <th>title</th>\n",
       "      <th>video link</th>\n",
       "      <th>video views</th>\n",
       "      <th>Upload time</th>\n",
       "      <th>thumbnail link</th>\n",
       "    </tr>\n",
       "  </thead>\n",
       "  <tbody>\n",
       "    <tr>\n",
       "      <th>0</th>\n",
       "      <td>Lecture-3 | Sorting in Java | FREE Premium Lec...</td>\n",
       "      <td>https://www.youtube.com//watch?v=mUX5IfNwhjg</td>\n",
       "      <td>801 views</td>\n",
       "      <td>1 day ago</td>\n",
       "      <td>https://i.ytimg.com/vi/mUX5IfNwhjg/hqdefault.j...</td>\n",
       "    </tr>\n",
       "    <tr>\n",
       "      <th>1</th>\n",
       "      <td>Lecture-2 | Sorting in CPP | FREE Premium Lect...</td>\n",
       "      <td>https://www.youtube.com//watch?v=tmESfVUaTog</td>\n",
       "      <td>879 views</td>\n",
       "      <td>3 days ago</td>\n",
       "      <td>https://i.ytimg.com/vi/tmESfVUaTog/hqdefault.j...</td>\n",
       "    </tr>\n",
       "    <tr>\n",
       "      <th>2</th>\n",
       "      <td>7 Game-Changing Productivity Tools You Need to...</td>\n",
       "      <td>https://www.youtube.com//watch?v=gH-7ezHeuEo</td>\n",
       "      <td>1K views</td>\n",
       "      <td>3 days ago</td>\n",
       "      <td>https://i.ytimg.com/vi/gH-7ezHeuEo/hqdefault.j...</td>\n",
       "    </tr>\n",
       "    <tr>\n",
       "      <th>3</th>\n",
       "      <td>Lecture-1 | Intro to Sorting Algorithms | FREE...</td>\n",
       "      <td>https://www.youtube.com//watch?v=cqBW7BgN7Zs</td>\n",
       "      <td>2.6K views</td>\n",
       "      <td>4 days ago</td>\n",
       "      <td>https://i.ytimg.com/vi/cqBW7BgN7Zs/hqdefault.j...</td>\n",
       "    </tr>\n",
       "    <tr>\n",
       "      <th>4</th>\n",
       "      <td>Get 40LPA+ Jobs - Top MERN Stack Interview Que...</td>\n",
       "      <td>https://www.youtube.com//watch?v=EhjCmg7qiTk</td>\n",
       "      <td>758 views</td>\n",
       "      <td>4 days ago</td>\n",
       "      <td>https://i.ytimg.com/vi/EhjCmg7qiTk/hqdefault.j...</td>\n",
       "    </tr>\n",
       "    <tr>\n",
       "      <th>...</th>\n",
       "      <td>...</td>\n",
       "      <td>...</td>\n",
       "      <td>...</td>\n",
       "      <td>...</td>\n",
       "      <td>...</td>\n",
       "    </tr>\n",
       "    <tr>\n",
       "      <th>175</th>\n",
       "      <td>Hire Best Talent with GeeksforGeeks</td>\n",
       "      <td>https://www.youtube.com//watch?v=xifGlf39ahQ</td>\n",
       "      <td>14K views</td>\n",
       "      <td>1 year ago</td>\n",
       "      <td>None</td>\n",
       "    </tr>\n",
       "    <tr>\n",
       "      <th>176</th>\n",
       "      <td>Tech Jobs without Degree | GeeksforGeeks</td>\n",
       "      <td>https://www.youtube.com//watch?v=5jHvfzt8Ors</td>\n",
       "      <td>2.1K views</td>\n",
       "      <td>1 year ago</td>\n",
       "      <td>None</td>\n",
       "    </tr>\n",
       "    <tr>\n",
       "      <th>177</th>\n",
       "      <td>Start your writing Journey | Geek Author Badge...</td>\n",
       "      <td>https://www.youtube.com//watch?v=ISPOKldx90E</td>\n",
       "      <td>1.6K views</td>\n",
       "      <td>1 year ago</td>\n",
       "      <td>None</td>\n",
       "    </tr>\n",
       "    <tr>\n",
       "      <th>178</th>\n",
       "      <td>Presenting: GeeksforGeeks Author Badges | Hono...</td>\n",
       "      <td>https://www.youtube.com//watch?v=kW9BohViP04</td>\n",
       "      <td>1.2K views</td>\n",
       "      <td>1 year ago</td>\n",
       "      <td>None</td>\n",
       "    </tr>\n",
       "    <tr>\n",
       "      <th>179</th>\n",
       "      <td>Create Your Own Apps Today | GeeksforGeeks</td>\n",
       "      <td>https://www.youtube.com//watch?v=LycNCWC3g18</td>\n",
       "      <td>35K views</td>\n",
       "      <td>1 year ago</td>\n",
       "      <td>None</td>\n",
       "    </tr>\n",
       "  </tbody>\n",
       "</table>\n",
       "<p>180 rows × 5 columns</p>\n",
       "</div>"
      ],
      "text/plain": [
       "                                                 title  \\\n",
       "0    Lecture-3 | Sorting in Java | FREE Premium Lec...   \n",
       "1    Lecture-2 | Sorting in CPP | FREE Premium Lect...   \n",
       "2    7 Game-Changing Productivity Tools You Need to...   \n",
       "3    Lecture-1 | Intro to Sorting Algorithms | FREE...   \n",
       "4    Get 40LPA+ Jobs - Top MERN Stack Interview Que...   \n",
       "..                                                 ...   \n",
       "175                Hire Best Talent with GeeksforGeeks   \n",
       "176           Tech Jobs without Degree | GeeksforGeeks   \n",
       "177  Start your writing Journey | Geek Author Badge...   \n",
       "178  Presenting: GeeksforGeeks Author Badges | Hono...   \n",
       "179         Create Your Own Apps Today | GeeksforGeeks   \n",
       "\n",
       "                                       video link video views Upload time  \\\n",
       "0    https://www.youtube.com//watch?v=mUX5IfNwhjg   801 views   1 day ago   \n",
       "1    https://www.youtube.com//watch?v=tmESfVUaTog   879 views  3 days ago   \n",
       "2    https://www.youtube.com//watch?v=gH-7ezHeuEo    1K views  3 days ago   \n",
       "3    https://www.youtube.com//watch?v=cqBW7BgN7Zs  2.6K views  4 days ago   \n",
       "4    https://www.youtube.com//watch?v=EhjCmg7qiTk   758 views  4 days ago   \n",
       "..                                            ...         ...         ...   \n",
       "175  https://www.youtube.com//watch?v=xifGlf39ahQ   14K views  1 year ago   \n",
       "176  https://www.youtube.com//watch?v=5jHvfzt8Ors  2.1K views  1 year ago   \n",
       "177  https://www.youtube.com//watch?v=ISPOKldx90E  1.6K views  1 year ago   \n",
       "178  https://www.youtube.com//watch?v=kW9BohViP04  1.2K views  1 year ago   \n",
       "179  https://www.youtube.com//watch?v=LycNCWC3g18   35K views  1 year ago   \n",
       "\n",
       "                                        thumbnail link  \n",
       "0    https://i.ytimg.com/vi/mUX5IfNwhjg/hqdefault.j...  \n",
       "1    https://i.ytimg.com/vi/tmESfVUaTog/hqdefault.j...  \n",
       "2    https://i.ytimg.com/vi/gH-7ezHeuEo/hqdefault.j...  \n",
       "3    https://i.ytimg.com/vi/cqBW7BgN7Zs/hqdefault.j...  \n",
       "4    https://i.ytimg.com/vi/EhjCmg7qiTk/hqdefault.j...  \n",
       "..                                                 ...  \n",
       "175                                               None  \n",
       "176                                               None  \n",
       "177                                               None  \n",
       "178                                               None  \n",
       "179                                               None  \n",
       "\n",
       "[180 rows x 5 columns]"
      ]
     },
     "execution_count": 77,
     "metadata": {},
     "output_type": "execute_result"
    }
   ],
   "source": [
    "df"
   ]
  },
  {
   "cell_type": "code",
   "execution_count": 78,
   "id": "61979ac2-e2eb-4005-b14c-9d229ed9d1f4",
   "metadata": {},
   "outputs": [
    {
     "data": {
      "text/plain": [
       "title              0\n",
       "video link         0\n",
       "video views        0\n",
       "Upload time        0\n",
       "thumbnail link    18\n",
       "dtype: int64"
      ]
     },
     "execution_count": 78,
     "metadata": {},
     "output_type": "execute_result"
    }
   ],
   "source": [
    "df.isnull().sum()"
   ]
  },
  {
   "cell_type": "code",
   "execution_count": null,
   "id": "e9ea0e32-a7b6-4a08-a84c-7020cb679206",
   "metadata": {},
   "outputs": [],
   "source": [
    "driver.find"
   ]
  }
 ],
 "metadata": {
  "kernelspec": {
   "display_name": "Python 3 (ipykernel)",
   "language": "python",
   "name": "python3"
  },
  "language_info": {
   "codemirror_mode": {
    "name": "ipython",
    "version": 3
   },
   "file_extension": ".py",
   "mimetype": "text/x-python",
   "name": "python",
   "nbconvert_exporter": "python",
   "pygments_lexer": "ipython3",
   "version": "3.11.7"
  }
 },
 "nbformat": 4,
 "nbformat_minor": 5
}
