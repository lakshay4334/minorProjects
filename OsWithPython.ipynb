{
 "cells": [
  {
   "cell_type": "code",
   "execution_count": 1,
   "id": "03bd846a-2fff-4450-8030-c87c5d913e85",
   "metadata": {},
   "outputs": [],
   "source": [
    "import os"
   ]
  },
  {
   "cell_type": "code",
   "execution_count": 2,
   "id": "97d1874d-0c48-4c3b-9fc9-ccb548b45e83",
   "metadata": {},
   "outputs": [
    {
     "data": {
      "text/plain": [
       "'C:\\\\Users\\\\lakshay\\\\Desktop\\\\Extra p'"
      ]
     },
     "execution_count": 2,
     "metadata": {},
     "output_type": "execute_result"
    }
   ],
   "source": [
    "os.getcwd()"
   ]
  },
  {
   "cell_type": "code",
   "execution_count": 3,
   "id": "400d3ba3-3211-41a3-b77b-7fbc4de50b2d",
   "metadata": {},
   "outputs": [
    {
     "name": "stdout",
     "output_type": "stream",
     "text": [
      " Volume in drive C has no label.\n",
      " Volume Serial Number is 44CD-4D84\n",
      "\n",
      " Directory of C:\\Users\\lakshay\\Desktop\\Extra p\n",
      "\n",
      "26-05-2024  15:18    <DIR>          .\n",
      "20-05-2024  11:07    <DIR>          ..\n",
      "26-05-2024  15:18    <DIR>          .ipynb_checkpoints\n",
      "23-05-2024  17:39                52 data.txt\n",
      "23-05-2024  17:47            10,532 DataReadingFromFile.ipynb\n",
      "23-05-2024  19:43    <DIR>          Inventory mgmt\n",
      "26-05-2024  15:18                72 OsWithPython.ipynb\n",
      "23-05-2024  13:46             3,614 unti.txt\n",
      "23-05-2024  17:48                72 Untitled.ipynb\n",
      "23-05-2024  17:48                72 Untitled1.ipynb\n",
      "22-05-2024  14:38                54 Untitled-1.py\n",
      "               7 File(s)         14,468 bytes\n",
      "               4 Dir(s)  149,650,137,088 bytes free\n"
     ]
    }
   ],
   "source": [
    "ls"
   ]
  },
  {
   "cell_type": "code",
   "execution_count": 4,
   "id": "2c2cf42c-09d1-475c-9ec6-1c9e3c95e1c1",
   "metadata": {},
   "outputs": [
    {
     "data": {
      "text/plain": [
       "'C:\\\\Users\\\\lakshay\\\\Desktop\\\\Extra p'"
      ]
     },
     "execution_count": 4,
     "metadata": {},
     "output_type": "execute_result"
    }
   ],
   "source": [
    "pwd"
   ]
  },
  {
   "cell_type": "code",
   "execution_count": 5,
   "id": "46f99cd4-0f5e-443e-950c-ed7ba1990fe0",
   "metadata": {},
   "outputs": [],
   "source": [
    "os.chdir(\"Inventory mgmt\")"
   ]
  },
  {
   "cell_type": "code",
   "execution_count": 6,
   "id": "153c3dfc-b35a-4a3a-ae56-beee25ae5612",
   "metadata": {},
   "outputs": [
    {
     "data": {
      "text/plain": [
       "'C:\\\\Users\\\\lakshay\\\\Desktop\\\\Extra p\\\\Inventory mgmt'"
      ]
     },
     "execution_count": 6,
     "metadata": {},
     "output_type": "execute_result"
    }
   ],
   "source": [
    "os.getcwd()"
   ]
  },
  {
   "cell_type": "code",
   "execution_count": 7,
   "id": "958b47f3-617c-4af7-b616-0206e9a7c08a",
   "metadata": {},
   "outputs": [],
   "source": [
    "os.chdir(\"../\")"
   ]
  },
  {
   "cell_type": "code",
   "execution_count": 8,
   "id": "ebe4ebec-0da9-4b22-a0ca-6b9501a1ce41",
   "metadata": {},
   "outputs": [
    {
     "data": {
      "text/plain": [
       "'C:\\\\Users\\\\lakshay\\\\Desktop\\\\Extra p'"
      ]
     },
     "execution_count": 8,
     "metadata": {},
     "output_type": "execute_result"
    }
   ],
   "source": [
    "os.getcwd()"
   ]
  },
  {
   "cell_type": "code",
   "execution_count": 9,
   "id": "cc1b9bfe-d863-46a3-bed7-d8847a6e345f",
   "metadata": {},
   "outputs": [],
   "source": [
    "os.mkdir(\"New folder created by code\")"
   ]
  },
  {
   "cell_type": "code",
   "execution_count": 10,
   "id": "163e37ab-514e-45e9-b699-c7f512123f98",
   "metadata": {},
   "outputs": [],
   "source": [
    "os.makedirs(\"New folder created by code/one/two/three\")"
   ]
  },
  {
   "cell_type": "code",
   "execution_count": 11,
   "id": "aeb8d430-cdc6-441b-a9fc-c4b425e561b3",
   "metadata": {},
   "outputs": [
    {
     "data": {
      "text/plain": [
       "'C:\\\\Users\\\\lakshay\\\\Desktop\\\\Extra p'"
      ]
     },
     "execution_count": 11,
     "metadata": {},
     "output_type": "execute_result"
    }
   ],
   "source": [
    "os.getcwd()"
   ]
  },
  {
   "cell_type": "code",
   "execution_count": 12,
   "id": "ae0a4c39-a43c-470a-a810-a59badfb7fcc",
   "metadata": {},
   "outputs": [
    {
     "ename": "PermissionError",
     "evalue": "[WinError 5] Access is denied: 'New folder created by code'",
     "output_type": "error",
     "traceback": [
      "\u001b[1;31m---------------------------------------------------------------------------\u001b[0m",
      "\u001b[1;31mPermissionError\u001b[0m                           Traceback (most recent call last)",
      "Cell \u001b[1;32mIn[12], line 1\u001b[0m\n\u001b[1;32m----> 1\u001b[0m os\u001b[38;5;241m.\u001b[39mremove(\u001b[38;5;124m\"\u001b[39m\u001b[38;5;124mNew folder created by code\u001b[39m\u001b[38;5;124m\"\u001b[39m)\n",
      "\u001b[1;31mPermissionError\u001b[0m: [WinError 5] Access is denied: 'New folder created by code'"
     ]
    }
   ],
   "source": [
    "os.remove(\"New folder created by code\")"
   ]
  },
  {
   "cell_type": "code",
   "execution_count": 13,
   "id": "27dd7cf4-06c3-4dae-9fc8-0034a3ac8624",
   "metadata": {},
   "outputs": [
    {
     "data": {
      "text/plain": [
       "['.ipynb_checkpoints',\n",
       " 'data.txt',\n",
       " 'DataReadingFromFile.ipynb',\n",
       " 'Inventory mgmt',\n",
       " 'New folder created by code',\n",
       " 'OsWithPython.ipynb',\n",
       " 'unti.txt',\n",
       " 'Untitled-1.py',\n",
       " 'Untitled.ipynb',\n",
       " 'Untitled1.ipynb']"
      ]
     },
     "execution_count": 13,
     "metadata": {},
     "output_type": "execute_result"
    }
   ],
   "source": [
    "os.listdir()"
   ]
  },
  {
   "cell_type": "code",
   "execution_count": 14,
   "id": "eba4eccb-fdbf-4f24-b7cd-9e501ec30917",
   "metadata": {},
   "outputs": [],
   "source": [
    "os.rename(\"unti.txt\",\"Untitled1.txt\")"
   ]
  },
  {
   "cell_type": "code",
   "execution_count": 17,
   "id": "df4032d3-5fc5-42c8-b632-b8fadeae8641",
   "metadata": {},
   "outputs": [],
   "source": [
    "os.mkdir(\"100Directories\")\n",
    "for i in range(1,101):\n",
    "    os.mkdir(\"100Directories/\"+str(i))"
   ]
  },
  {
   "cell_type": "code",
   "execution_count": 18,
   "id": "dd9ab3a9-0d5e-4dfb-9cfc-c323cec40bca",
   "metadata": {},
   "outputs": [
    {
     "ename": "AttributeError",
     "evalue": "module 'os' has no attribute 'uname'",
     "output_type": "error",
     "traceback": [
      "\u001b[1;31m---------------------------------------------------------------------------\u001b[0m",
      "\u001b[1;31mAttributeError\u001b[0m                            Traceback (most recent call last)",
      "Cell \u001b[1;32mIn[18], line 1\u001b[0m\n\u001b[1;32m----> 1\u001b[0m os\u001b[38;5;241m.\u001b[39muname()\n",
      "\u001b[1;31mAttributeError\u001b[0m: module 'os' has no attribute 'uname'"
     ]
    }
   ],
   "source": [
    "os.uname()"
   ]
  },
  {
   "cell_type": "code",
   "execution_count": null,
   "id": "dd6b471b-39e5-4e82-8ffd-6a3317cbdf61",
   "metadata": {},
   "outputs": [],
   "source": []
  }
 ],
 "metadata": {
  "kernelspec": {
   "display_name": "Python 3 (ipykernel)",
   "language": "python",
   "name": "python3"
  },
  "language_info": {
   "codemirror_mode": {
    "name": "ipython",
    "version": 3
   },
   "file_extension": ".py",
   "mimetype": "text/x-python",
   "name": "python",
   "nbconvert_exporter": "python",
   "pygments_lexer": "ipython3",
   "version": "3.11.7"
  }
 },
 "nbformat": 4,
 "nbformat_minor": 5
}
