{
 "cells": [
  {
   "cell_type": "code",
   "execution_count": 1,
   "id": "aed8b1d7-0dc6-4851-8959-7131c5e2f15f",
   "metadata": {},
   "outputs": [],
   "source": [
    "import pandas as pd\n",
    "import numpy as np\n",
    "import matplotlib.pyplot as plt\n",
    "import seaborn as sns"
   ]
  },
  {
   "cell_type": "code",
   "execution_count": 2,
   "id": "4bc036cd-5586-4cc6-b22a-4e5e992377fe",
   "metadata": {},
   "outputs": [],
   "source": [
    "import random\n",
    "random.seed(101)"
   ]
  },
  {
   "cell_type": "code",
   "execution_count": 3,
   "id": "710ffd11-ed88-436f-91a4-b8912a3d0734",
   "metadata": {},
   "outputs": [
    {
     "data": {
      "text/html": [
       "<div>\n",
       "<style scoped>\n",
       "    .dataframe tbody tr th:only-of-type {\n",
       "        vertical-align: middle;\n",
       "    }\n",
       "\n",
       "    .dataframe tbody tr th {\n",
       "        vertical-align: top;\n",
       "    }\n",
       "\n",
       "    .dataframe thead th {\n",
       "        text-align: right;\n",
       "    }\n",
       "</style>\n",
       "<table border=\"1\" class=\"dataframe\">\n",
       "  <thead>\n",
       "    <tr style=\"text-align: right;\">\n",
       "      <th></th>\n",
       "      <th>PassengerId</th>\n",
       "      <th>Survived</th>\n",
       "      <th>Pclass</th>\n",
       "      <th>Name</th>\n",
       "      <th>Sex</th>\n",
       "      <th>Age</th>\n",
       "      <th>SibSp</th>\n",
       "      <th>Parch</th>\n",
       "      <th>Ticket</th>\n",
       "      <th>Fare</th>\n",
       "      <th>Cabin</th>\n",
       "      <th>Embarked</th>\n",
       "    </tr>\n",
       "  </thead>\n",
       "  <tbody>\n",
       "    <tr>\n",
       "      <th>0</th>\n",
       "      <td>1</td>\n",
       "      <td>0</td>\n",
       "      <td>3</td>\n",
       "      <td>Braund, Mr. Owen Harris</td>\n",
       "      <td>male</td>\n",
       "      <td>22.0</td>\n",
       "      <td>1</td>\n",
       "      <td>0</td>\n",
       "      <td>A/5 21171</td>\n",
       "      <td>7.2500</td>\n",
       "      <td>NaN</td>\n",
       "      <td>S</td>\n",
       "    </tr>\n",
       "    <tr>\n",
       "      <th>1</th>\n",
       "      <td>2</td>\n",
       "      <td>1</td>\n",
       "      <td>1</td>\n",
       "      <td>Cumings, Mrs. John Bradley (Florence Briggs Th...</td>\n",
       "      <td>female</td>\n",
       "      <td>38.0</td>\n",
       "      <td>1</td>\n",
       "      <td>0</td>\n",
       "      <td>PC 17599</td>\n",
       "      <td>71.2833</td>\n",
       "      <td>C85</td>\n",
       "      <td>C</td>\n",
       "    </tr>\n",
       "    <tr>\n",
       "      <th>2</th>\n",
       "      <td>3</td>\n",
       "      <td>1</td>\n",
       "      <td>3</td>\n",
       "      <td>Heikkinen, Miss. Laina</td>\n",
       "      <td>female</td>\n",
       "      <td>26.0</td>\n",
       "      <td>0</td>\n",
       "      <td>0</td>\n",
       "      <td>STON/O2. 3101282</td>\n",
       "      <td>7.9250</td>\n",
       "      <td>NaN</td>\n",
       "      <td>S</td>\n",
       "    </tr>\n",
       "    <tr>\n",
       "      <th>3</th>\n",
       "      <td>4</td>\n",
       "      <td>1</td>\n",
       "      <td>1</td>\n",
       "      <td>Futrelle, Mrs. Jacques Heath (Lily May Peel)</td>\n",
       "      <td>female</td>\n",
       "      <td>35.0</td>\n",
       "      <td>1</td>\n",
       "      <td>0</td>\n",
       "      <td>113803</td>\n",
       "      <td>53.1000</td>\n",
       "      <td>C123</td>\n",
       "      <td>S</td>\n",
       "    </tr>\n",
       "    <tr>\n",
       "      <th>4</th>\n",
       "      <td>5</td>\n",
       "      <td>0</td>\n",
       "      <td>3</td>\n",
       "      <td>Allen, Mr. William Henry</td>\n",
       "      <td>male</td>\n",
       "      <td>35.0</td>\n",
       "      <td>0</td>\n",
       "      <td>0</td>\n",
       "      <td>373450</td>\n",
       "      <td>8.0500</td>\n",
       "      <td>NaN</td>\n",
       "      <td>S</td>\n",
       "    </tr>\n",
       "  </tbody>\n",
       "</table>\n",
       "</div>"
      ],
      "text/plain": [
       "   PassengerId  Survived  Pclass  \\\n",
       "0            1         0       3   \n",
       "1            2         1       1   \n",
       "2            3         1       3   \n",
       "3            4         1       1   \n",
       "4            5         0       3   \n",
       "\n",
       "                                                Name     Sex   Age  SibSp  \\\n",
       "0                            Braund, Mr. Owen Harris    male  22.0      1   \n",
       "1  Cumings, Mrs. John Bradley (Florence Briggs Th...  female  38.0      1   \n",
       "2                             Heikkinen, Miss. Laina  female  26.0      0   \n",
       "3       Futrelle, Mrs. Jacques Heath (Lily May Peel)  female  35.0      1   \n",
       "4                           Allen, Mr. William Henry    male  35.0      0   \n",
       "\n",
       "   Parch            Ticket     Fare Cabin Embarked  \n",
       "0      0         A/5 21171   7.2500   NaN        S  \n",
       "1      0          PC 17599  71.2833   C85        C  \n",
       "2      0  STON/O2. 3101282   7.9250   NaN        S  \n",
       "3      0            113803  53.1000  C123        S  \n",
       "4      0            373450   8.0500   NaN        S  "
      ]
     },
     "execution_count": 3,
     "metadata": {},
     "output_type": "execute_result"
    }
   ],
   "source": [
    "data = pd.read_csv(\"train.csv\")\n",
    "data_test = pd.read_csv(\"test.csv\")\n",
    "data.head()"
   ]
  },
  {
   "cell_type": "code",
   "execution_count": 4,
   "id": "38714a35-cff3-40d1-b450-c7dbff3f037f",
   "metadata": {},
   "outputs": [
    {
     "name": "stdout",
     "output_type": "stream",
     "text": [
      "<class 'pandas.core.frame.DataFrame'>\n",
      "RangeIndex: 891 entries, 0 to 890\n",
      "Data columns (total 12 columns):\n",
      " #   Column       Non-Null Count  Dtype  \n",
      "---  ------       --------------  -----  \n",
      " 0   PassengerId  891 non-null    int64  \n",
      " 1   Survived     891 non-null    int64  \n",
      " 2   Pclass       891 non-null    int64  \n",
      " 3   Name         891 non-null    object \n",
      " 4   Sex          891 non-null    object \n",
      " 5   Age          714 non-null    float64\n",
      " 6   SibSp        891 non-null    int64  \n",
      " 7   Parch        891 non-null    int64  \n",
      " 8   Ticket       891 non-null    object \n",
      " 9   Fare         891 non-null    float64\n",
      " 10  Cabin        204 non-null    object \n",
      " 11  Embarked     889 non-null    object \n",
      "dtypes: float64(2), int64(5), object(5)\n",
      "memory usage: 83.7+ KB\n"
     ]
    }
   ],
   "source": [
    "data.info()"
   ]
  },
  {
   "cell_type": "code",
   "execution_count": 7,
   "id": "7b107c90-1ff8-4921-ab1b-9921f03d2d16",
   "metadata": {},
   "outputs": [],
   "source": [
    "dict_live = {0:\"Died\",1:\"Survived\"}\n",
    "dict_sex = {\"male\":0,\"female\":1}\n",
    "data[\"Bsex\"] = data[\"Sex\"].apply(lambda x: dict_sex[x])\n",
    "\n",
    "features = data[[\"Pclass\",\"Bsex\"]].to_numpy()\n",
    "labels = data[\"Survived\"].to_numpy()"
   ]
  },
  {
   "cell_type": "code",
   "execution_count": 8,
   "id": "df933d85-f81f-4668-8c2a-cf1ae3b373e7",
   "metadata": {},
   "outputs": [
    {
     "data": {
      "text/plain": [
       "array([[3, 0],\n",
       "       [1, 1],\n",
       "       [3, 1],\n",
       "       ...,\n",
       "       [3, 1],\n",
       "       [1, 0],\n",
       "       [3, 0]], dtype=int64)"
      ]
     },
     "execution_count": 8,
     "metadata": {},
     "output_type": "execute_result"
    }
   ],
   "source": [
    "features"
   ]
  },
  {
   "cell_type": "code",
   "execution_count": 9,
   "id": "eb7f279d-af8c-4868-91a7-a030240f80f3",
   "metadata": {},
   "outputs": [],
   "source": [
    "from sklearn.model_selection import train_test_split\n",
    "\n",
    "xtrain,xtest,ytrain,ytest = train_test_split(features,labels,test_size=0.3,random_state=0)"
   ]
  },
  {
   "cell_type": "markdown",
   "id": "af16b1df-9494-47df-8f26-7e13c280f3e4",
   "metadata": {},
   "source": [
    "## multi layer perceptron"
   ]
  },
  {
   "cell_type": "code",
   "execution_count": 10,
   "id": "bf51a2fb-697b-4811-b43d-855d09a21aec",
   "metadata": {},
   "outputs": [],
   "source": [
    "#sigmoid function\n",
    "def Sigmoid(x, derivative = False):\n",
    "    if derivative == True:\n",
    "        f = 1/(1+np.exp(-x)) * (1- (1/(1+np.exp(-x))))\n",
    "    else:\n",
    "        f = 1/(1+np.exp(-x))\n",
    "    return f\n",
    "def ReLU(x,derivative = False):\n",
    "    if derivative == True:\n",
    "        f = np.heaviside(x,1)\n",
    "    else:\n",
    "        f = np.max(x,0)\n",
    "    return f"
   ]
  },
  {
   "cell_type": "code",
   "execution_count": 11,
   "id": "3d5effa0-ceed-46bc-a407-b83e97e906ed",
   "metadata": {},
   "outputs": [],
   "source": [
    "def train_ANN(xtrain,ytrain,h1_units = 4,h2_units = 4, learning_rate = 0.0015):\n",
    "    random.seed(101)\n",
    "    # hidden layer 1\n",
    "    w1 = 2*np.random.rand(h1_units, xtrain.shape[1])\n",
    "    b1 = np.random.rand(h1_units)\n",
    "    #hidden layer 2\n",
    "    w2 = 2*np.random.rand(h2_units, h1_units)\n",
    "    b2 = np.random.rand(h2_units)\n",
    "    #output layer\n",
    "    w_out = 2*np.random.rand(h2_units)\n",
    "    b_out = np.random.rand(1)\n",
    "\n",
    "    loss = []\n",
    "    vec_y = []\n",
    "    for i in range(0,xtrain.shape[0]):\n",
    "        x_data = xtrain[i]\n",
    "        #feed forward\n",
    "        h1 = ReLU(np.dot(w1,x_data)+b1)\n",
    "        h2 = ReLU(np.dot(w2,h1)+b2)\n",
    "        y = Sigmoid(np.dot(w_out,h2)+b_out)\n",
    "        #back propogation\n",
    "        delta_out = (y - ytrain[i]) * Sigmoid(y, derivative=True)\n",
    "        delta_2 = delta_out*w2*ReLU(h2,derivative=True)\n",
    "        delta_1 = np.dot(delta_2,w2)*ReLU(h1,derivative=True)\n",
    "        #gradient descent\n",
    "        w_out = w_out - learning_rate*delta_out*h2\n",
    "        b_out = b_out - learning_rate*delta_out\n",
    "        #hidden layer 2\n",
    "        w2 = w2 - learning_rate * np.kron(delta_2,h1).reshape(h2_units,h1_units)\n",
    "        b2 = b2 - learning_rate * delta_2\n",
    "        #hidden layer 1\n",
    "        w1 = w1-learning_rate * np.kron(delta_1,x_data).reshape(h1_units,x_data.shape[0])\n",
    "        b1 = b1 - learning_rate*delta_1\n",
    "        #cost\n",
    "        cost = loss.append(0.5 * (y - ytrain[i])**2)\n",
    "        vec_y.append(y[0])\n",
    "\n",
    "    batch_loss = []\n",
    "    for i in range(0,10):\n",
    "        loss_avg = 0\n",
    "        for m in range(0,60):\n",
    "            loss_avg += vec_y[60*i+m]/60\n",
    "        batch_loss.append(loss_avg)\n",
    "\n",
    "    plt.figure(figsize=(10,6))\n",
    "    plt.plot(np.arange(1,(len(batch_loss+1))),batch_loss)\n",
    "    plt.show()\n",
    "\n",
    "    return w1,b1,w2,b2,w_out,b_out,loss"
   ]
  },
  {
   "cell_type": "code",
   "execution_count": 12,
   "id": "700817a1-8b22-4f0d-bef6-be924cbe4f8b",
   "metadata": {},
   "outputs": [
    {
     "ename": "ValueError",
     "evalue": "cannot reshape array of size 32 into shape (4,2)",
     "output_type": "error",
     "traceback": [
      "\u001b[1;31m---------------------------------------------------------------------------\u001b[0m",
      "\u001b[1;31mValueError\u001b[0m                                Traceback (most recent call last)",
      "Cell \u001b[1;32mIn[12], line 1\u001b[0m\n\u001b[1;32m----> 1\u001b[0m w1,b1,w2,b2,w_out,b_out,loss \u001b[38;5;241m=\u001b[39m train_ANN(xtrain,ytrain)\n",
      "Cell \u001b[1;32mIn[11], line 32\u001b[0m, in \u001b[0;36mtrain_ANN\u001b[1;34m(xtrain, ytrain, h1_units, h2_units, learning_rate)\u001b[0m\n\u001b[0;32m     30\u001b[0m b2 \u001b[38;5;241m=\u001b[39m b2 \u001b[38;5;241m-\u001b[39m learning_rate \u001b[38;5;241m*\u001b[39m delta_2\n\u001b[0;32m     31\u001b[0m \u001b[38;5;66;03m#hidden layer 1\u001b[39;00m\n\u001b[1;32m---> 32\u001b[0m w1 \u001b[38;5;241m=\u001b[39m w1\u001b[38;5;241m-\u001b[39mlearning_rate \u001b[38;5;241m*\u001b[39m np\u001b[38;5;241m.\u001b[39mkron(delta_1,x_data)\u001b[38;5;241m.\u001b[39mreshape(h1_units,x_data\u001b[38;5;241m.\u001b[39mshape[\u001b[38;5;241m0\u001b[39m])\n\u001b[0;32m     33\u001b[0m b1 \u001b[38;5;241m=\u001b[39m b1 \u001b[38;5;241m-\u001b[39m learning_rate\u001b[38;5;241m*\u001b[39mdelta_1\n\u001b[0;32m     34\u001b[0m \u001b[38;5;66;03m#cost\u001b[39;00m\n",
      "\u001b[1;31mValueError\u001b[0m: cannot reshape array of size 32 into shape (4,2)"
     ]
    }
   ],
   "source": [
    "w1,b1,w2,b2,w_out,b_out,loss = train_ANN(xtrain,ytrain)"
   ]
  },
  {
   "cell_type": "code",
   "execution_count": null,
   "id": "e19eb27d-1611-49be-80e1-8520639b11ab",
   "metadata": {},
   "outputs": [],
   "source": []
  }
 ],
 "metadata": {
  "kernelspec": {
   "display_name": "Python 3 (ipykernel)",
   "language": "python",
   "name": "python3"
  },
  "language_info": {
   "codemirror_mode": {
    "name": "ipython",
    "version": 3
   },
   "file_extension": ".py",
   "mimetype": "text/x-python",
   "name": "python",
   "nbconvert_exporter": "python",
   "pygments_lexer": "ipython3",
   "version": "3.11.7"
  }
 },
 "nbformat": 4,
 "nbformat_minor": 5
}
