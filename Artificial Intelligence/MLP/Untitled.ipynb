{
 "cells": [
  {
   "cell_type": "code",
   "execution_count": 2,
   "id": "416b2f33-c594-40e4-89b4-4eedbce39233",
   "metadata": {},
   "outputs": [],
   "source": [
    "import numpy as np"
   ]
  },
  {
   "cell_type": "code",
   "execution_count": 1,
   "id": "9de5fd88-05b4-418b-b201-1daf28bde493",
   "metadata": {},
   "outputs": [],
   "source": [
    "input_size = 3 #no of features\n",
    "layers = [3,2] # no of neurons in first and second layer\n",
    "output_size = 2\n"
   ]
  },
  {
   "cell_type": "code",
   "execution_count": 3,
   "id": "43e71780-a04e-45fa-866b-b8955193bfb4",
   "metadata": {},
   "outputs": [],
   "source": [
    "class NeuralNetwork:\n",
    "    def __init__(self,input_size,layers,output_size):\n",
    "        np.random.seed(0)\n",
    "\n",
    "        model = {}\n",
    "        model[\"w1\"] = np.random.randn(input_size,layers[0])\n",
    "        model[\"b1\"] = np.zeroes(1,layers[0])\n",
    "\n",
    "        model[\"w2\"] = np.random.randn(layers[0],layers[1])\n",
    "        model[\"b2\"] = np.zeroes(1,layers[1])\n",
    "\n",
    "        model[\"w3\"] = np.random.randn(layers[1],output_size)\n",
    "        model[\"b3\"] = np.zeroes(1,output_size)\n",
    "\n",
    "        self.model= model\n",
    "        \n",
    "        "
   ]
  },
  {
   "cell_type": "code",
   "execution_count": null,
   "id": "2fc78037-1a44-413e-b9f9-5a4c0cfbd981",
   "metadata": {},
   "outputs": [],
   "source": []
  }
 ],
 "metadata": {
  "kernelspec": {
   "display_name": "Python 3 (ipykernel)",
   "language": "python",
   "name": "python3"
  },
  "language_info": {
   "codemirror_mode": {
    "name": "ipython",
    "version": 3
   },
   "file_extension": ".py",
   "mimetype": "text/x-python",
   "name": "python",
   "nbconvert_exporter": "python",
   "pygments_lexer": "ipython3",
   "version": "3.11.7"
  }
 },
 "nbformat": 4,
 "nbformat_minor": 5
}
