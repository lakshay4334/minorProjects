{
 "cells": [
  {
   "cell_type": "code",
   "execution_count": 1,
   "id": "6cee23d3-5e31-4388-b1b0-930f6bb364cd",
   "metadata": {},
   "outputs": [],
   "source": [
    "import math\n",
    "import numpy as np\n",
    "import scipy"
   ]
  },
  {
   "cell_type": "code",
   "execution_count": 5,
   "id": "521ea34b-42dd-4a3b-a0d5-bf8951bfc55d",
   "metadata": {},
   "outputs": [],
   "source": [
    "def ztest(n, sample_mean, pop_mean, std_dev, los):\n",
    "    z = (sample_mean - pop_mean)*(math.sqrt(n))/std_dev\n",
    "    if(z > scipy.stats.norm.ppf(1 - los)):\n",
    "        return \"Reject the Null Hypothesis\"\n",
    "    else:\n",
    "        return \"Accept the null hypothesis\""
   ]
  },
  {
   "cell_type": "code",
   "execution_count": 7,
   "id": "597a3dbd-5d13-40bd-bd10-1ed1373f5087",
   "metadata": {},
   "outputs": [
    {
     "data": {
      "text/plain": [
       "'Accept the null hypothesis'"
      ]
     },
     "execution_count": 7,
     "metadata": {},
     "output_type": "execute_result"
    }
   ],
   "source": [
    "ztest(81,82,90,20,0.05)"
   ]
  },
  {
   "cell_type": "code",
   "execution_count": 8,
   "id": "7c431f12-61eb-4a4c-8928-a8f31c903771",
   "metadata": {},
   "outputs": [],
   "source": [
    "def ttest(n, sample_mean, pop_mean, std_dev_sample, los):\n",
    "    t = (sample_mean - pop_mean)*(math.sqrt(n))/std_dev_sample\n",
    "    if(t > scipy.stats.t.ppf(1 - los, n-1)):\n",
    "        return \"Reject the Null Hypothesis\"\n",
    "    else:\n",
    "        return \"Accept the null hypothesis\""
   ]
  },
  {
   "cell_type": "code",
   "execution_count": 9,
   "id": "ac7a828c-691e-44ed-8796-82c02880b98d",
   "metadata": {},
   "outputs": [
    {
     "data": {
      "text/plain": [
       "'Accept the null hypothesis'"
      ]
     },
     "execution_count": 9,
     "metadata": {},
     "output_type": "execute_result"
    }
   ],
   "source": [
    "ttest(20,24,25,0.7,0.05)"
   ]
  },
  {
   "cell_type": "code",
   "execution_count": 12,
   "id": "b526c41c-39fb-499e-90e7-12071e73e8da",
   "metadata": {},
   "outputs": [],
   "source": [
    "def chi_test(los,obs_list = [],exp_list = []):\n",
    "    if(len(obs_list) == len(exp_list)):\n",
    "        df = len(obs_list) - 1\n",
    "        \n",
    "    "
   ]
  },
  {
   "cell_type": "code",
   "execution_count": null,
   "id": "8b582d9a-8127-415a-9313-2214569d7a93",
   "metadata": {},
   "outputs": [],
   "source": []
  }
 ],
 "metadata": {
  "kernelspec": {
   "display_name": "Python 3 (ipykernel)",
   "language": "python",
   "name": "python3"
  },
  "language_info": {
   "codemirror_mode": {
    "name": "ipython",
    "version": 3
   },
   "file_extension": ".py",
   "mimetype": "text/x-python",
   "name": "python",
   "nbconvert_exporter": "python",
   "pygments_lexer": "ipython3",
   "version": "3.11.7"
  }
 },
 "nbformat": 4,
 "nbformat_minor": 5
}
