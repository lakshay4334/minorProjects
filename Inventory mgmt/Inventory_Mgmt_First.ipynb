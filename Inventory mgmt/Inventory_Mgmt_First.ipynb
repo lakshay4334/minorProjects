{
 "cells": [
  {
   "cell_type": "code",
   "execution_count": 1,
   "id": "260d2f39-c4eb-4b39-b074-3faa5f62b060",
   "metadata": {},
   "outputs": [],
   "source": [
    "fd = open(\"Inventory.txt\",\"w\")\n",
    "fd.close()"
   ]
  },
  {
   "cell_type": "markdown",
   "id": "78e2351b-a386-4919-b262-4b185b8c9a1e",
   "metadata": {},
   "source": [
    "1. Product ID\n",
    "2. Name of Product\n",
    "3. Price of product\n",
    "4. Quantity"
   ]
  },
  {
   "cell_type": "code",
   "execution_count": 3,
   "id": "4374d1c9-b2a5-4e2e-987b-893c1bb59ebd",
   "metadata": {},
   "outputs": [],
   "source": [
    "fd = open(\"Inventory.txt\",\"w\")\n",
    "fd.write(\"1,5 Star,5,100\\n2,Milky Bar,5,100\\n3,Cake,300,5\\n4,Candy,1,200\")\n",
    "fd.close()"
   ]
  },
  {
   "cell_type": "code",
   "execution_count": 7,
   "id": "fc1a646f-aa26-4bf7-830e-7d7634957b9b",
   "metadata": {},
   "outputs": [
    {
     "name": "stdout",
     "output_type": "stream",
     "text": [
      "['1,5 Star,5,100', '2,Milky Bar,5,100', '3,Cake,300,5', '4,Candy,1,200']\n"
     ]
    }
   ],
   "source": [
    "fd = open(\"Inventory.txt\",\"r\")\n",
    "text = fd.read().split(\"\\n\")\n",
    "print(text)\n",
    "fd.close()"
   ]
  },
  {
   "cell_type": "code",
   "execution_count": 30,
   "id": "183b676d-3a7a-4051-8e65-7d664bfd38b7",
   "metadata": {},
   "outputs": [
    {
     "name": "stdout",
     "output_type": "stream",
     "text": [
      "['1,5 Star,5,100', '2,Milky Bar,5,100', '3,Cake,300,5', '4,Candy,1,200']\n"
     ]
    }
   ],
   "source": [
    "print(text)"
   ]
  },
  {
   "cell_type": "code",
   "execution_count": 10,
   "id": "4dcfffc7-2253-40ff-bf31-7b91dfd82fd7",
   "metadata": {},
   "outputs": [
    {
     "name": "stdout",
     "output_type": "stream",
     "text": [
      "1,5 Star,5,100\n",
      "2,Milky Bar,5,100\n",
      "3,Cake,300,5\n",
      "4,Candy,1,200\n"
     ]
    }
   ],
   "source": [
    "for products in text:\n",
    "    print(products)\n"
   ]
  },
  {
   "cell_type": "markdown",
   "id": "c42019d3-e3ec-4475-b25e-b5122ed5e641",
   "metadata": {},
   "source": [
    "#### Finding product with id"
   ]
  },
  {
   "cell_type": "code",
   "execution_count": 24,
   "id": "f5c7eefa-ebe1-4b82-8148-58740570e63d",
   "metadata": {},
   "outputs": [
    {
     "name": "stdin",
     "output_type": "stream",
     "text": [
      "Enter Product Id: 1\n"
     ]
    },
    {
     "name": "stdout",
     "output_type": "stream",
     "text": [
      "Product Name = 5 Star\n"
     ]
    }
   ],
   "source": [
    "ui_prod_id = int(input(\"Enter Product Id:\"))\n",
    "x = False\n",
    "for products in text:\n",
    "    if(int(products.split(\",\")[0]) == ui_prod_id):\n",
    "        print(\"Product Name = \"+ products.split(\",\")[1])\n",
    "        x = False\n",
    "        break\n",
    "    else:\n",
    "        x = True\n",
    "if(x == True):\n",
    "    print(\"Product not found\")"
   ]
  },
  {
   "cell_type": "markdown",
   "id": "1637e87d-3b53-4fb5-8c9a-8c65fdd9e6a6",
   "metadata": {},
   "source": [
    "#### Finding the product and getting Quantity and price of that product if it is there"
   ]
  },
  {
   "cell_type": "code",
   "execution_count": 28,
   "id": "60edd6b1-74d3-46a3-a8c4-d7d89f03fb81",
   "metadata": {},
   "outputs": [
    {
     "name": "stdin",
     "output_type": "stream",
     "text": [
      "Enter Product Id: 4\n"
     ]
    },
    {
     "name": "stdout",
     "output_type": "stream",
     "text": [
      "Product Name = Candy\n",
      "Price of the Product = 1\n",
      "Quantity of the Product Available = 200\n"
     ]
    }
   ],
   "source": [
    "ui_prod_id = int(input(\"Enter Product Id:\"))\n",
    "x = False\n",
    "for products in text:\n",
    "    if(int(products.split(\",\")[0]) == ui_prod_id):\n",
    "        print(\"Product Name = \"+ products.split(\",\")[1]+\"\\nPrice of the Product = \"+products.split(\",\")[2]+\"\\nQuantity of the Product Available = \"+products.split(\",\")[3])\n",
    "        x = False\n",
    "        break\n",
    "    else:\n",
    "        x = True\n",
    "if(x == True):\n",
    "    print(\"Product not found\")"
   ]
  },
  {
   "cell_type": "markdown",
   "id": "1a7b7c11-b2db-4488-8460-af93acf72d98",
   "metadata": {},
   "source": [
    "# Checking if the quantity is available or not"
   ]
  },
  {
   "cell_type": "code",
   "execution_count": 29,
   "id": "a523d824-5968-435e-9bac-c3d4b1786f95",
   "metadata": {},
   "outputs": [
    {
     "name": "stdin",
     "output_type": "stream",
     "text": [
      "Enter Product Id: 3\n",
      "Enter quantity needed: 4\n"
     ]
    },
    {
     "name": "stdout",
     "output_type": "stream",
     "text": [
      "Product Name = Cake\n",
      "Price of the Product = 300\n",
      "Quantity of the Product Available = 5\n",
      "Quantity is available\n"
     ]
    }
   ],
   "source": [
    "ui_prod_id = int(input(\"Enter Product Id:\"))\n",
    "ui_prod_qty = input(\"Enter quantity needed:\")\n",
    "x = False\n",
    "for products in text:\n",
    "    if(int(products.split(\",\")[0]) == ui_prod_id):\n",
    "        print(\"Product Name = \"+ products.split(\",\")[1]+\"\\nPrice of the Product = \"+products.split(\",\")[2]+\"\\nQuantity of the Product Available = \"+products.split(\",\")[3])\n",
    "        if(products.split(\",\")[3] > ui_prod_qty):\n",
    "            print(\"Quantity is available\")\n",
    "        else:\n",
    "            print(\"Qantity specifies is not available\"+\"\\nThe quantity available is: \"+products.split(\",\")[3])\n",
    "        x = False\n",
    "        break\n",
    "    else:\n",
    "        x = True\n",
    "if(x == True):\n",
    "    print(\"Product not found\")"
   ]
  },
  {
   "cell_type": "code",
   "execution_count": 31,
   "id": "3a1aff1d-4155-421d-b909-a74dd1cb4466",
   "metadata": {},
   "outputs": [
    {
     "data": {
      "text/plain": [
       "\"['1,5 Star,5,100', '2,Milky Bar,5,100', '3,Cake,300,5', '4,Candy,1,200']\""
      ]
     },
     "execution_count": 31,
     "metadata": {},
     "output_type": "execute_result"
    }
   ],
   "source": [
    "str(text.split)"
   ]
  },
  {
   "cell_type": "code",
   "execution_count": 50,
   "id": "96e50856-9c6e-4d18-9e73-52909541a0a3",
   "metadata": {},
   "outputs": [
    {
     "name": "stdin",
     "output_type": "stream",
     "text": [
      "Enter Product Id: 2\n",
      "Enter quantity needed: 3\n"
     ]
    },
    {
     "name": "stdout",
     "output_type": "stream",
     "text": [
      "Product Name = Milky Bar\n",
      "Price of the Product = 5\n",
      "Quantity of the Product Available = 94\n",
      "Your Bill\n",
      "Milky Bar=15\n"
     ]
    }
   ],
   "source": [
    "ui_prod_id = int(input(\"Enter Product Id:\"))\n",
    "ui_prod_qty = input(\"Enter quantity needed:\")\n",
    "x = False\n",
    "sold = False\n",
    "for index,products in enumerate(text):\n",
    "    if(int(products.split(\",\")[0]) == ui_prod_id):\n",
    "        print(\"Product Name = \"+ products.split(\",\")[1]+\"\\nPrice of the Product = \"+products.split(\",\")[2]+\"\\nQuantity of the Product Available = \"+products.split(\",\")[3])\n",
    "        if(int(products.split(\",\")[3]) >= int(ui_prod_qty)):\n",
    "            bill_amount = int(products.split(\",\")[2]) * int(ui_prod_qty)\n",
    "            print(\"Your Bill\"+\"\\n\"+ products.split(\",\")[1] + \"=\" + str(bill_amount))\n",
    "            text[index] = products.split(\",\")[0]+\",\"+ products.split(\",\")[1]+\",\"+products.split(\",\")[2]+\",\"+str(int(products.split(\",\")[3]) - int(ui_prod_qty))\n",
    "            sold = True\n",
    "        else:\n",
    "            print(\"Qantity specified is not available\"+\"\\nThe quantity available is: \"+products.split(\",\")[3])\n",
    "        x = False\n",
    "        break\n",
    "    else:\n",
    "        x = True\n",
    "if(x == True):\n",
    "    print(\"Product not found\")\n",
    "if(sold == True):\n",
    "    fd = open(\"Inventory.txt\",\"w\")\n",
    "    str_gen = \"\"\n",
    "    for i in text:\n",
    "        if(str_gen == \"\"):\n",
    "            str_gen = str_gen+i\n",
    "        else:\n",
    "            str_gen = str_gen+\"\\n\"+i\n",
    "    fd.write(str_gen)\n",
    "    fd.close()"
   ]
  },
  {
   "cell_type": "code",
   "execution_count": null,
   "id": "9ed6ceed-df7b-44f3-9f5f-f855b16f9954",
   "metadata": {},
   "outputs": [],
   "source": []
  }
 ],
 "metadata": {
  "kernelspec": {
   "display_name": "Python 3 (ipykernel)",
   "language": "python",
   "name": "python3"
  },
  "language_info": {
   "codemirror_mode": {
    "name": "ipython",
    "version": 3
   },
   "file_extension": ".py",
   "mimetype": "text/x-python",
   "name": "python",
   "nbconvert_exporter": "python",
   "pygments_lexer": "ipython3",
   "version": "3.11.7"
  }
 },
 "nbformat": 4,
 "nbformat_minor": 5
}
